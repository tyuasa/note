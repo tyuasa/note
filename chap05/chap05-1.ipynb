{
 "cells": [
  {
   "cell_type": "code",
   "execution_count": 2,
   "metadata": {
    "tags": []
   },
   "outputs": [
    {
     "output_type": "stream",
     "name": "stdout",
     "text": "0\n"
    }
   ],
   "source": [
    "v = -1\n",
    "if v<0 :\n",
    "    v = 0\n",
    "v *= 2\n",
    "print(v)"
   ]
  },
  {
   "cell_type": "code",
   "execution_count": 4,
   "metadata": {
    "tags": []
   },
   "outputs": [
    {
     "output_type": "stream",
     "name": "stdout",
     "text": "6\n"
    }
   ],
   "source": [
    "v = 3\n",
    "if v<0 :\n",
    "    v = 0\n",
    "v *= 2\n",
    "print (v)"
   ]
  },
  {
   "cell_type": "code",
   "execution_count": 5,
   "metadata": {
    "tags": []
   },
   "outputs": [
    {
     "output_type": "stream",
     "name": "stdout",
     "text": "0\n"
    }
   ],
   "source": [
    "v = -1\n",
    "if v<0 :\n",
    "    v = 0\n",
    "v *= 2\n",
    "print(v)"
   ]
  },
  {
   "cell_type": "code",
   "execution_count": 6,
   "metadata": {
    "tags": []
   },
   "outputs": [
    {
     "output_type": "stream",
     "name": "stdout",
     "text": "97\n--------------------\n不合格／-3\n"
    }
   ],
   "source": [
    "sum = 50 + 37 + 10\n",
    "limit = 100\n",
    "if sum>=limit :\n",
    "    result = \"合格\"\n",
    "else :\n",
    "    result = \"不合格\"\n",
    "    result += \"／\" + str(sum-limit)\n",
    "print(sum)\n",
    "print(\"-\" * 20)\n",
    "print(result)"
   ]
  },
  {
   "cell_type": "code",
   "execution_count": 14,
   "metadata": {
    "tags": []
   },
   "outputs": [
    {
     "output_type": "stream",
     "name": "stdout",
     "text": "8点：不合格\n"
    }
   ],
   "source": [
    "from random import randint\n",
    "point = randint(0,100)\n",
    "if point>=80 :\n",
    "    result = \"Aクラス\"\n",
    "elif point>=60 :\n",
    "    result = \"Bクラス\"\n",
    "elif point>=30 :\n",
    "    result = \"Cクラス\"\n",
    "else :\n",
    "    result = \"不合格\"\n",
    "\n",
    "print(f\"{point}点：{result}\")"
   ]
  },
  {
   "cell_type": "code",
   "execution_count": 17,
   "metadata": {
    "tags": []
   },
   "outputs": [
    {
     "output_type": "stream",
     "name": "stdout",
     "text": "サイズ12、重量40：合格\n"
    }
   ],
   "source": [
    "from random import randint\n",
    "size = randint(5, 20)\n",
    "weight = randint(20, 40)\n",
    "\n",
    "if size >= 10 :\n",
    "    if weight >= 25 :\n",
    "        result = \"合格\"\n",
    "    else :\n",
    "        result = \"不合格\"\n",
    "else :\n",
    "    result = \"不合格\"\n",
    "\n",
    "text = f\"サイズ{size}、重量{weight}：{result}\"\n",
    "print(text)"
   ]
  },
  {
   "cell_type": "code",
   "execution_count": 23,
   "metadata": {
    "tags": []
   },
   "outputs": [
    {
     "output_type": "stream",
     "name": "stdout",
     "text": "サイズ19、重量34：合格\n"
    }
   ],
   "source": [
    "from random import randint\n",
    "size = randint(5, 20)\n",
    "weight = randint(20, 40)\n",
    "\n",
    "if (size>=10) and (weight>=25) :\n",
    "    result = \"合格\"\n",
    "else :\n",
    "    result = \"不合格\"\n",
    "\n",
    "text = f\"サイズ{size}、重量{weight}：{result}\"\n",
    "print(text)"
   ]
  },
  {
   "cell_type": "code",
   "execution_count": 24,
   "metadata": {
    "tags": []
   },
   "outputs": [
    {
     "output_type": "stream",
     "name": "stdout",
     "text": "a 92、b 76、合計168：合格\n"
    }
   ],
   "source": [
    "from random import randint\n",
    "a = randint(0,100)\n",
    "b = randint(0,100)\n",
    "\n",
    "if a>=40 and b>=40 and (a+b)>=120 :\n",
    "    result = \"合格\"\n",
    "else :\n",
    "    result = \"不合格\"\n",
    "\n",
    "text = f\"a {a}、b {b}、合計{a+b}：{result}\"\n",
    "print(text)"
   ]
  },
  {
   "cell_type": "code",
   "execution_count": 25,
   "metadata": {
    "tags": []
   },
   "outputs": [
    {
     "output_type": "stream",
     "name": "stdout",
     "text": "サイズ11、重量26：合格\n"
    }
   ],
   "source": [
    "from random import randint\n",
    "size = randint(5, 20)\n",
    "weight = randint(20, 40)\n",
    "\n",
    "if (size>=10) or (weight>=25) :\n",
    "    result = \"合格\"\n",
    "else :\n",
    "    result = \"不合格\"\n",
    "\n",
    "text = f\"サイズ{size}、重量{weight}：{result}\"\n",
    "print(text)"
   ]
  },
  {
   "cell_type": "code",
   "execution_count": 26,
   "metadata": {
    "tags": []
   },
   "outputs": [
    {
     "output_type": "stream",
     "name": "stdout",
     "text": "匿名\n"
    }
   ],
   "source": [
    "name = \"\"\n",
    "if not name :\n",
    "    name = \"匿名\"\n",
    "print(name)"
   ]
  },
  {
   "cell_type": "code",
   "execution_count": 31,
   "metadata": {
    "tags": []
   },
   "outputs": [
    {
     "output_type": "stream",
     "name": "stdout",
     "text": "21 奇数\n"
    }
   ],
   "source": [
    "from random import randint\n",
    "num = randint(0,100)\n",
    "\n",
    "if num%2 :\n",
    "    result = \"奇数\"\n",
    "else :\n",
    "    result = \"偶数\"\n",
    "print (num, result)"
   ]
  },
  {
   "cell_type": "code",
   "execution_count": 33,
   "metadata": {
    "tags": []
   },
   "outputs": [
    {
     "output_type": "stream",
     "name": "stdout",
     "text": "6 合格\n"
    }
   ],
   "source": [
    "from random import randint\n",
    "a = randint(0, 10)\n",
    "\n",
    "if 5 <= a <=8 :\n",
    "    print (a, \"合格\")\n",
    "else :\n",
    "    print (a, \"不合格\")"
   ]
  },
  {
   "cell_type": "code",
   "execution_count": 34,
   "metadata": {
    "tags": []
   },
   "outputs": [
    {
     "output_type": "stream",
     "name": "stdout",
     "text": "75と23では、75が大きい\n"
    }
   ],
   "source": [
    "from random import randint\n",
    "a = randint(0, 100)\n",
    "b = randint(0, 100)\n",
    "\n",
    "if a>b :\n",
    "    bigger = a\n",
    "else :\n",
    "    bigger = b\n",
    "text = f\"{a}と{b}では、{bigger}が大きい\"\n",
    "print (text)"
   ]
  },
  {
   "cell_type": "code",
   "execution_count": 35,
   "metadata": {
    "tags": []
   },
   "outputs": [
    {
     "output_type": "stream",
     "name": "stdout",
     "text": "22と22では、22が大きい\n"
    }
   ],
   "source": [
    "from random import randint\n",
    "a = randint(0, 100)\n",
    "b = randint(0, 100)\n",
    "\n",
    "if a>b :\n",
    "    bigger = a\n",
    "else :\n",
    "    bigger = b\n",
    "print (f\"{a}と{b}では、{bigger}が大きい\")"
   ]
  },
  {
   "cell_type": "code",
   "execution_count": null,
   "metadata": {},
   "outputs": [],
   "source": []
  },
  {
   "cell_type": "code",
   "execution_count": null,
   "metadata": {},
   "outputs": [],
   "source": []
  }
 ],
 "metadata": {
  "language_info": {
   "codemirror_mode": {
    "name": "ipython",
    "version": 3
   },
   "file_extension": ".py",
   "mimetype": "text/x-python",
   "name": "python",
   "nbconvert_exporter": "python",
   "pygments_lexer": "ipython3",
   "version": "3.8.3-final"
  },
  "orig_nbformat": 2,
  "kernelspec": {
   "name": "python38264bitvenvnotevenv23ce147a73fa4435bf31d40948e90d7f",
   "display_name": "Python 3.8.2 64-bit ('venv_note': venv)"
  }
 },
 "nbformat": 4,
 "nbformat_minor": 2
}