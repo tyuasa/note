{
 "cells": [
  {
   "cell_type": "code",
   "execution_count": 1,
   "metadata": {
    "tags": []
   },
   "outputs": [
    {
     "output_type": "stream",
     "name": "stdout",
     "text": "1\n2\n3\n4\n5\n"
    }
   ],
   "source": [
    "count = 1\n",
    "while count<=5 :\n",
    "    print(count)\n",
    "    count += 1"
   ]
  },
  {
   "cell_type": "code",
   "execution_count": 2,
   "metadata": {
    "tags": []
   },
   "outputs": [
    {
     "output_type": "stream",
     "name": "stdout",
     "text": "20\n  3\n  6\n 18\n 10\n---\n 57\n"
    }
   ],
   "source": [
    "from random import randint\n",
    "tickets = 5\n",
    "point = 0\n",
    "fmt = \"{:>3}\"\n",
    "while tickets>0 :\n",
    "    v = randint(1, 20)\n",
    "    print(fmt.format(v))\n",
    "    point += v\n",
    "    tickets -= 1\n",
    "print (\"-\" * 3)\n",
    "print(fmt.format(point))"
   ]
  },
  {
   "cell_type": "code",
   "execution_count": 1,
   "metadata": {
    "tags": []
   },
   "outputs": [
    {
     "output_type": "stream",
     "name": "stdout",
     "text": "3\n13\n7\n14\n5\n---\n42\n"
    }
   ],
   "source": [
    "from random import randint\n",
    "tickets = 5\n",
    "point = 0\n",
    "\n",
    "while tickets>0 :\n",
    "    v = randint(1, 20)\n",
    "    print(v)\n",
    "    point += v\n",
    "    tickets -= 1\n",
    "print (\"-\" * 3)\n",
    "print(point)"
   ]
  },
  {
   "cell_type": "code",
   "execution_count": null,
   "metadata": {},
   "outputs": [],
   "source": []
  }
 ],
 "metadata": {
  "language_info": {
   "codemirror_mode": {
    "name": "ipython",
    "version": 3
   },
   "file_extension": ".py",
   "mimetype": "text/x-python",
   "name": "python",
   "nbconvert_exporter": "python",
   "pygments_lexer": "ipython3",
   "version": "3.8.3-final"
  },
  "orig_nbformat": 2,
  "kernelspec": {
   "name": "python38264bitvenvnotevenv23ce147a73fa4435bf31d40948e90d7f",
   "display_name": "Python 3.8.2 64-bit ('venv_note': venv)"
  }
 },
 "nbformat": 4,
 "nbformat_minor": 2
}