{
 "cells": [
  {
   "cell_type": "code",
   "execution_count": 1,
   "metadata": {},
   "outputs": [
    {
     "output_type": "stream",
     "name": "stdout",
     "text": "blue\npink\ngreen\nred\n"
    }
   ],
   "source": [
    "colors = [\"blue\", \"pink\", \"green\", \"red\"]\n",
    "for name in colors:\n",
    "    print(name)"
   ]
  },
  {
   "cell_type": "code",
   "execution_count": 2,
   "metadata": {},
   "outputs": [
    {
     "output_type": "stream",
     "name": "stdout",
     "text": "0\n1\n2\n3\n4\n5\n6\n7\n8\n9\n"
    }
   ],
   "source": [
    "for i in range(10):\n",
    "    print(i)"
   ]
  },
  {
   "cell_type": "code",
   "execution_count": 8,
   "metadata": {},
   "outputs": [
    {
     "output_type": "stream",
     "name": "stdout",
     "text": "5\n7\n9\n"
    }
   ],
   "source": [
    "for i in range(5,10, 2):\n",
    "    print(i)"
   ]
  },
  {
   "cell_type": "code",
   "execution_count": 9,
   "metadata": {},
   "outputs": [
    {
     "output_type": "stream",
     "name": "stdout",
     "text": "i = 0\n  j = 0\n  j = 1\ni = 1\n  j = 0\n  j = 1\ni = 2\n  j = 0\n  j = 1\n"
    }
   ],
   "source": [
    "for i in range(3):\n",
    "    print(\"i =\" , i)\n",
    "    for j in range(2):\n",
    "        print(\" \", \"j =\", j)"
   ]
  },
  {
   "cell_type": "code",
   "execution_count": 12,
   "metadata": {},
   "outputs": [
    {
     "output_type": "stream",
     "name": "stdout",
     "text": "\n(0, 0)(2, 0)(4, 0)\n(0, 3)(2, 3)(4, 3)\n(0, 6)(2, 6)(4, 6)\n(0, 9)(2, 9)(4, 9)\n"
    }
   ],
   "source": [
    "for i in range(4):\n",
    "    print()\n",
    "    for j in range(3):\n",
    "        x = j*2\n",
    "        y = i*3\n",
    "        print(f\"({x}, {y})\", end=\"\")\n",
    "print()"
   ]
  },
  {
   "cell_type": "code",
   "execution_count": 14,
   "metadata": {},
   "outputs": [
    {
     "output_type": "stream",
     "name": "stdout",
     "text": "1 / 1\n3 / 4\n4.2 / 8.2\n9 / 17.2\n10 / 27.2\nx 数値ではありません\n"
    }
   ],
   "source": [
    "numlist = {3, 4.2, 10, \"x\", 1, 9}\n",
    "sum = 0\n",
    "for num in numlist:\n",
    "    if not isinstance(num, (int, float)) :\n",
    "        print(num, \"数値ではありません\")\n",
    "        break\n",
    "    sum += num\n",
    "    print(num, \"/\", sum)\n",
    "    "
   ]
  },
  {
   "cell_type": "code",
   "execution_count": 15,
   "metadata": {},
   "outputs": [
    {
     "output_type": "stream",
     "name": "stdout",
     "text": "i=0, j=0\n.\ni=1, j=0\ni=1, j=1\n..\ni=2, j=0\ni=2, j=1\ni=2, j=2\n...\ni=3, j=0\ni=3, j=1\ni=3, j=2\ni=3, j=3\n"
    }
   ],
   "source": [
    "for i in range(4):\n",
    "    for j in range(4):\n",
    "        if i<j :\n",
    "            print(\".\" * j)\n",
    "            break\n",
    "        print(f\"i={i}, j={j}\")"
   ]
  },
  {
   "cell_type": "code",
   "execution_count": 2,
   "metadata": {},
   "outputs": [
    {
     "output_type": "stream",
     "name": "stdout",
     "text": "3 / 3\n4.2 / 7.2\n10 / 17.2\nx 数値ではありません。\n1 / 18.2\n9 / 27.2\n"
    }
   ],
   "source": [
    "numlist = [3, 4.2, 10, \"x\", 1, 9]\n",
    "sum = 0\n",
    "for num in numlist :\n",
    "    if not isinstance (num, (int, float)) :\n",
    "         print(num, \"数値ではありません。\")\n",
    "         continue\n",
    "    sum += num\n",
    "    print(num, \"/\", sum)"
   ]
  },
  {
   "cell_type": "code",
   "execution_count": 7,
   "metadata": {},
   "outputs": [
    {
     "output_type": "stream",
     "name": "stdout",
     "text": "i=0, j=0\n.\n..\n...\ni=1, j=0\ni=1, j=1\n..\n...\ni=2, j=0\ni=2, j=1\ni=2, j=2\n...\ni=3, j=0\ni=3, j=1\ni=3, j=2\ni=3, j=3\n"
    }
   ],
   "source": [
    "for i in range(4):\n",
    "    for j in range(4):\n",
    "        if i<j :\n",
    "            print(\".\" * j)\n",
    "            continue\n",
    "        print(f\"i={i}, j={j}\")"
   ]
  },
  {
   "cell_type": "code",
   "execution_count": null,
   "metadata": {},
   "outputs": [],
   "source": []
  }
 ],
 "metadata": {
  "language_info": {
   "name": "python",
   "codemirror_mode": {
    "name": "ipython",
    "version": 3
   },
   "version": "3.8.2-final"
  },
  "orig_nbformat": 2,
  "file_extension": ".py",
  "mimetype": "text/x-python",
  "name": "python",
  "npconvert_exporter": "python",
  "pygments_lexer": "ipython3",
  "version": 3,
  "kernelspec": {
   "name": "python38264bitvenvnotevenv29d46958a2cf4244b665d6081c193529",
   "display_name": "Python 3.8.2 64-bit ('venv_note': venv)"
  }
 },
 "nbformat": 4,
 "nbformat_minor": 2
}