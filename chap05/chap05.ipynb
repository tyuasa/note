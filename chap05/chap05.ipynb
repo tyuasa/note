{
 "nbformat": 4,
 "nbformat_minor": 2,
 "metadata": {
  "language_info": {
   "name": "python",
   "codemirror_mode": {
    "name": "ipython",
    "version": 3
   },
   "version": "3.8.2-final"
  },
  "orig_nbformat": 2,
  "file_extension": ".py",
  "mimetype": "text/x-python",
  "name": "python",
  "npconvert_exporter": "python",
  "pygments_lexer": "ipython3",
  "version": 3,
  "kernelspec": {
   "name": "python38264bitvenvnotevenv29d46958a2cf4244b665d6081c193529",
   "display_name": "Python 3.8.2 64-bit ('venv_note': venv)"
  }
 },
 "cells": [
  {
   "cell_type": "code",
   "execution_count": 1,
   "metadata": {},
   "outputs": [
    {
     "output_type": "execute_result",
     "data": {
      "text/plain": "'チューリップは赤と青と黄でした。'"
     },
     "metadata": {},
     "execution_count": 1
    }
   ],
   "source": [
    "s = \"チューリップは{}と{}と{}でした。\"\n",
    "s.format(\"赤\", \"青\", \"黄\")"
   ]
  },
  {
   "cell_type": "code",
   "execution_count": 3,
   "metadata": {},
   "outputs": [
    {
     "output_type": "stream",
     "name": "stdout",
     "text": "高橋選手、年齢23、得点102.5でした。\n"
    }
   ],
   "source": [
    "name = \"高橋\"\n",
    "age = 23\n",
    "point = 102.5\n",
    "s = \"{}選手、年齢{}、得点{}でした。\"\n",
    "text = s.format(name, age, point)\n",
    "print(text)"
   ]
  },
  {
   "cell_type": "code",
   "execution_count": 4,
   "metadata": {},
   "outputs": [
    {
     "output_type": "stream",
     "name": "stdout",
     "text": "高橋選手、年齢23、得点102.5でした。\n"
    }
   ],
   "source": [
    "name = \"高橋\"\n",
    "age = 23\n",
    "point = 102.5\n",
    "text = f\"{name}選手、年齢{age}、得点{point}でした。\"\n",
    "print(text)"
   ]
  },
  {
   "cell_type": "code",
   "execution_count": 5,
   "metadata": {},
   "outputs": [
    {
     "output_type": "stream",
     "name": "stdout",
     "text": "得点102.5、高橋、23歳\n"
    }
   ],
   "source": [
    "name = \"高橋\"\n",
    "age = 23\n",
    "point = 102.5\n",
    "s = \"得点{2}、{0}、{1}歳\"\n",
    "text = s.format(name, age, point)\n",
    "print(text)"
   ]
  },
  {
   "cell_type": "code",
   "execution_count": 6,
   "metadata": {},
   "outputs": [
    {
     "output_type": "stream",
     "name": "stdout",
     "text": "高橋選手、年齢23、得点102.5でした。\n"
    }
   ],
   "source": [
    "name = \"高橋\"\n",
    "age = 23\n",
    "point = 102.5\n",
    "s = \"{0}選手、年齢{1}、得点{2}でした。\"\n",
    "text = s.format(name, age, point)\n",
    "print(text)"
   ]
  },
  {
   "cell_type": "code",
   "execution_count": 8,
   "metadata": {},
   "outputs": [
    {
     "output_type": "stream",
     "name": "stdout",
     "text": "高橋選手、年齢23、得点102.5でした。\n"
    }
   ],
   "source": [
    "s = \"{name}選手、年齢{age}、得点{point}でした。\"\n",
    "text = s.format(name=\"高橋\",age=23,point=102.5)\n",
    "print(text)"
   ]
  },
  {
   "cell_type": "code",
   "execution_count": 9,
   "metadata": {},
   "outputs": [
    {
     "output_type": "stream",
     "name": "stdout",
     "text": "東京123,456,000、京都53,900\n"
    }
   ],
   "source": [
    "tokyo = 123456000\n",
    "kyoto = 53900\n",
    "print(f\"東京{tokyo:,}、京都{kyoto:,}\")"
   ]
  },
  {
   "cell_type": "code",
   "execution_count": 11,
   "metadata": {},
   "outputs": [
    {
     "output_type": "stream",
     "name": "stdout",
     "text": "長さ25.3cm、厚み6mm\n"
    }
   ],
   "source": [
    "length = 25.34\n",
    "thickness = 5.62\n",
    "text = f\"長さ{length:.1f}cm、厚み{thickness:.0f}mm\"\n",
    "print(text)"
   ]
  },
  {
   "cell_type": "code",
   "execution_count": 13,
   "metadata": {},
   "outputs": [
    {
     "output_type": "execute_result",
     "data": {
      "text/plain": "'長さ25.3cm、厚み6mm'"
     },
     "metadata": {},
     "execution_count": 13
    }
   ],
   "source": [
    "length = 25.34\n",
    "thickness = 5.62\n",
    "s = \"長さ{:.1f}cm、厚み{:.0f}mm\"\n",
    "s.format(length, thickness)"
   ]
  },
  {
   "cell_type": "code",
   "execution_count": 14,
   "metadata": {},
   "outputs": [
    {
     "output_type": "stream",
     "name": "stdout",
     "text": "2,345.03\n"
    }
   ],
   "source": [
    "num = 2345.032\n",
    "print (f\"{num:,.2f}\")"
   ]
  },
  {
   "cell_type": "code",
   "execution_count": 17,
   "metadata": {},
   "outputs": [
    {
     "output_type": "stream",
     "name": "stdout",
     "text": "123.4\n"
    }
   ],
   "source": [
    "num1 = 123.4\n",
    "num2 = 56.9\n",
    "num3 = 3040.1\n",
    "print(f\"{num1:>10.1f}\")"
   ]
  },
  {
   "cell_type": "code",
   "execution_count": 18,
   "metadata": {},
   "outputs": [
    {
     "output_type": "stream",
     "name": "stdout",
     "text": "56.9\n"
    }
   ],
   "source": [
    "print(f\"{num2:>10.1f}\")"
   ]
  },
  {
   "cell_type": "code",
   "execution_count": 19,
   "metadata": {},
   "outputs": [
    {
     "output_type": "stream",
     "name": "stdout",
     "text": "3040.1\n"
    }
   ],
   "source": [
    "print(f\"{num3:>10.1f}\")"
   ]
  },
  {
   "cell_type": "code",
   "execution_count": 24,
   "metadata": {},
   "outputs": [
    {
     "output_type": "execute_result",
     "data": {
      "text/plain": "(\"%s %s%s % {'Hello', Python\", 3.6)"
     },
     "metadata": {},
     "execution_count": 24
    }
   ],
   "source": [
    "\"%s %s%s\"\" % {'Hello', Python\", 3.6,  "
   ]
  },
  {
   "cell_type": "code",
   "execution_count": 25,
   "metadata": {},
   "outputs": [
    {
     "output_type": "stream",
     "name": "stdout",
     "text": "2,345.03\n"
    }
   ],
   "source": [
    "num = 2345.032\n",
    "print(f\"{num:,.2f}\")"
   ]
  },
  {
   "cell_type": "code",
   "execution_count": 28,
   "metadata": {},
   "outputs": [
    {
     "output_type": "stream",
     "name": "stdout",
     "text": "6\n"
    }
   ],
   "source": [
    "v = -1\n",
    "if v<0 :\n",
    "    v = 0\n",
    "v = v * 2\n",
    "print(v)"
   ]
  },
  {
   "cell_type": "code",
   "execution_count": 29,
   "metadata": {},
   "outputs": [
    {
     "output_type": "stream",
     "name": "stdout",
     "text": "97\n--------------------\n不合格／-3\n"
    }
   ],
   "source": [
    "sum = 50 + 37 + 10\n",
    "limit = 100\n",
    "if sum>=limit :\n",
    "    result = \"合格\"\n",
    "else :\n",
    "    result = \"不合格\"\n",
    "    result += \"／\" + str(sum-limit)\n",
    "print(sum)\n",
    "print(\"-\" * 20)\n",
    "print(result)"
   ]
  },
  {
   "cell_type": "code",
   "execution_count": 33,
   "metadata": {},
   "outputs": [
    {
     "output_type": "stream",
     "name": "stdout",
     "text": "35点：Cクラス\n"
    }
   ],
   "source": [
    "from random import randint\n",
    "point = randint(0,100)\n",
    "if point>=80 :\n",
    "    result = \"Aクラス\"\n",
    "elif point>=60 :\n",
    "    result = \"Bクラス\"\n",
    "elif point>=30 :\n",
    "    result = \"Cクラス\"\n",
    "else :\n",
    "    result = \"不合格\"\n",
    "print(f\"{point}点：{result}\")"
   ]
  },
  {
   "cell_type": "code",
   "execution_count": 41,
   "metadata": {},
   "outputs": [
    {
     "output_type": "stream",
     "name": "stdout",
     "text": "サイズ17、重量28:合格\n"
    }
   ],
   "source": [
    "from random import randint\n",
    "size = randint(5,20)\n",
    "weight = randint(20,40)\n",
    "#\n",
    "if size >= 10:\n",
    "    if weight >= 25:\n",
    "        result = \"合格\"\n",
    "    else :\n",
    "        result = \"不合格\"\n",
    "else :\n",
    "    result = \"不合格\"\n",
    "#\n",
    "text = f\"サイズ{size}、重量{weight}:{result}\"\n",
    "print (text)"
   ]
  },
  {
   "cell_type": "code",
   "execution_count": 48,
   "metadata": {},
   "outputs": [
    {
     "output_type": "stream",
     "name": "stdout",
     "text": "サイズ18、重量32：合格\n"
    }
   ],
   "source": [
    "from random import randint\n",
    "size = randint(5,20)\n",
    "weight = randint(20,40)\n",
    "if size >= 10 and weight >= 25 :\n",
    "    result = \"合格\"\n",
    "else :\n",
    "    result = \"不合格\"\n",
    "text = f\"サイズ{size}、重量{weight}：{result}\"\n",
    "print (text)"
   ]
  },
  {
   "cell_type": "code",
   "execution_count": 47,
   "metadata": {},
   "outputs": [
    {
     "output_type": "stream",
     "name": "stdout",
     "text": "サイズ16, 重量22：不合格\n"
    }
   ],
   "source": [
    "from random import randint\n",
    "a = randint(0,100)\n",
    "b = randint(0,100)\n",
    "if a>=40 and b>=40 and (a+b)>=120:\n",
    "    result = \"合格\"\n",
    "else :\n",
    "    result = \"不合格\"\n",
    "text = f\"サイズ{size}, 重量{weight}：{result}\"\n",
    "print(text)"
   ]
  },
  {
   "cell_type": "code",
   "execution_count": 49,
   "metadata": {},
   "outputs": [
    {
     "output_type": "stream",
     "name": "stdout",
     "text": "サイズ14、重量29:合格\n"
    }
   ],
   "source": [
    "from random import randint\n",
    "size = randint(5,20)\n",
    "weight = randint(20,40)\n",
    "if size >= 10 or weight >= 25 :\n",
    "    result = \"合格\"\n",
    "else:\n",
    "    result = \"不合格\"\n",
    "text = f\"サイズ{size}、重量{weight}:{result}\"\n",
    "print(text)"
   ]
  },
  {
   "cell_type": "code",
   "execution_count": 50,
   "metadata": {},
   "outputs": [
    {
     "output_type": "stream",
     "name": "stdout",
     "text": "匿名\n"
    }
   ],
   "source": [
    "name = \"\"\n",
    "if not name :\n",
    "    name = \"匿名\"\n",
    "print(name)"
   ]
  },
  {
   "cell_type": "code",
   "execution_count": 54,
   "metadata": {},
   "outputs": [
    {
     "output_type": "stream",
     "name": "stdout",
     "text": "91 奇数\n"
    }
   ],
   "source": [
    "from random import randint\n",
    "num = randint (0,100)\n",
    "if num%2 :\n",
    "    result=\"奇数\"\n",
    "else :\n",
    "    result=\"偶数\"\n",
    "print(num, result)"
   ]
  },
  {
   "cell_type": "code",
   "execution_count": 58,
   "metadata": {},
   "outputs": [
    {
     "output_type": "stream",
     "name": "stdout",
     "text": "0 不合格\n"
    }
   ],
   "source": [
    "from random import randint\n",
    "a = randint(0,10)\n",
    "if 5 <= a <= 8 :\n",
    "    print(a, \"合格\")\n",
    "else :\n",
    "    print(a, \"不合格\")\n",
    ""
   ]
  },
  {
   "cell_type": "code",
   "execution_count": 59,
   "metadata": {},
   "outputs": [
    {
     "output_type": "stream",
     "name": "stdout",
     "text": "17と84では、84が大きい.\n"
    }
   ],
   "source": [
    "from random import randint\n",
    "a = randint(0,100)\n",
    "b = randint(0,100)\n",
    "if a>b : \n",
    "    bigger = a\n",
    "else :\n",
    "    bigger = b\n",
    "text = f\"{a}と{b}では、{bigger}が大きい.\"\n",
    "print (text)"
   ]
  },
  {
   "cell_type": "code",
   "execution_count": 60,
   "metadata": {},
   "outputs": [
    {
     "output_type": "stream",
     "name": "stdout",
     "text": "22と68では、68が大きい.\n"
    }
   ],
   "source": [
    "from random import randint\n",
    "a = randint(0,100)\n",
    "b = randint(0,100)\n",
    "bigger = a if a>b else b\n",
    "text = f\"{a}と{b}では、{bigger}が大きい.\"\n",
    "print(text)"
   ]
  },
  {
   "cell_type": "code",
   "execution_count": 61,
   "metadata": {},
   "outputs": [
    {
     "output_type": "stream",
     "name": "stdout",
     "text": "1\n2\n3\n4\n5\n"
    }
   ],
   "source": [
    "count = 1\n",
    "while count<=5 :\n",
    "    print(count)\n",
    "    count += 1"
   ]
  },
  {
   "cell_type": "code",
   "execution_count": 62,
   "metadata": {},
   "outputs": [
    {
     "output_type": "stream",
     "name": "stdout",
     "text": "13\n 14\n 18\n  7\n 18\n---\n 70\n"
    }
   ],
   "source": [
    "from random import randint\n",
    "tickets = 5\n",
    "point = 0\n",
    "fmt = \"{:>3}\"\n",
    "while tickets>0 :\n",
    "    v = randint(1,20)\n",
    "    print(fmt.format(v))\n",
    "    point += v\n",
    "    tickets -= 1\n",
    "print(\"-\" * 3)\n",
    "print(fmt.format(point))"
   ]
  },
  {
   "cell_type": "code",
   "execution_count": 65,
   "metadata": {},
   "outputs": [
    {
     "output_type": "stream",
     "name": "stdout",
     "text": "6 2 13\n"
    }
   ],
   "source": [
    "from random import randint\n",
    "while True :\n",
    "    a = randint(1,13)\n",
    "    b = randint(1,13)\n",
    "    c = randint(1,13)\n",
    "    if ( a+b+c ) == 21 :\n",
    "        break\n",
    "print(a, b, c)"
   ]
  },
  {
   "cell_type": "code",
   "execution_count": 68,
   "metadata": {},
   "outputs": [
    {
     "output_type": "stream",
     "name": "stdout",
     "text": "問題！3回間違えtら終了。qで止める\n正解です！\n正解です！\n正解です！\n正解です！\n正解です！\n正解です！\n--------------------\n正解： 6\n不正解: 0\n"
    }
   ],
   "source": [
    "from random import randint\n",
    "miss = 0\n",
    "correct = 0\n",
    "print (\"問題！3回間違えtら終了。qで止める\")\n",
    "while miss < 3 :\n",
    "    a = randint(1,100)\n",
    "    b = randint(1,100)\n",
    "    ans = a + b\n",
    "    question = f\"{a} + {b}は？\"\n",
    "    value = input(question)\n",
    "\n",
    "    if value == \"q\":\n",
    "        break\n",
    "    if value == str(ans) :\n",
    "        correct += 1\n",
    "        print(\"正解です！\")\n",
    "    else :\n",
    "        miss += 1\n",
    "        print(\"勘違い！\", \"×\" * miss)\n",
    "print(\"-\"* 20)\n",
    "print(\"正解：\", correct)\n",
    "print(\"不正解:\", miss)"
   ]
  },
  {
   "cell_type": "code",
   "execution_count": 3,
   "metadata": {},
   "outputs": [
    {
     "output_type": "stream",
     "name": "stdout",
     "text": "[3, 50, 55, 73, 60, 16, 36, 10, 21, 95]\n"
    }
   ],
   "source": [
    "from random import randint\n",
    "numbers = []\n",
    "while len(numbers)<10:\n",
    "    n = randint(0,100)\n",
    "    if n in numbers:\n",
    "        continue\n",
    "    numbers.append(n)\n",
    "print(numbers)\n",
    ""
   ]
  },
  {
   "cell_type": "code",
   "execution_count": 17,
   "metadata": {},
   "outputs": [
    {
     "output_type": "stream",
     "name": "stdout",
     "text": "[] の後で、中断されました\nend\n"
    }
   ],
   "source": [
    "from random import randint\n",
    "numbers = []\n",
    "while len(numbers)<10:\n",
    "    n = randint(-10,90)\n",
    "    if n<0 :\n",
    "        print(numbers, \"の後で、中断されました\")\n",
    "        break\n",
    "    if n in numbers :\n",
    "        continue\n",
    "    numbers.append(n)\n",
    "else:\n",
    "    print(numbers)\n",
    "print(\"end\")"
   ]
  },
  {
   "cell_type": "code",
   "execution_count": null,
   "metadata": {},
   "outputs": [],
   "source": []
  }
 ]
}