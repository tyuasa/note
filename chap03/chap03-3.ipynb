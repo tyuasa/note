{
 "cells": [
  {
   "cell_type": "code",
   "execution_count": 1,
   "metadata": {
    "tags": []
   },
   "outputs": [
    {
     "output_type": "stream",
     "name": "stdout",
     "text": "100.0\n"
    }
   ],
   "source": [
    "width = 20.0\n",
    "hight = 10.0\n",
    "area = width * hight / 2\n",
    "print(area)"
   ]
  },
  {
   "cell_type": "code",
   "execution_count": 2,
   "metadata": {},
   "outputs": [
    {
     "output_type": "execute_result",
     "data": {
      "text/plain": "20"
     },
     "metadata": {},
     "execution_count": 2
    }
   ],
   "source": [
    "age = 19\n",
    "age = age + 1\n",
    "age"
   ]
  },
  {
   "cell_type": "code",
   "execution_count": 3,
   "metadata": {},
   "outputs": [
    {
     "output_type": "execute_result",
     "data": {
      "text/plain": "20"
     },
     "metadata": {},
     "execution_count": 3
    }
   ],
   "source": [
    "age = 19\n",
    "age += 1\n",
    "age"
   ]
  },
  {
   "cell_type": "code",
   "execution_count": 4,
   "metadata": {},
   "outputs": [
    {
     "output_type": "execute_result",
     "data": {
      "text/plain": "20"
     },
     "metadata": {},
     "execution_count": 4
    }
   ],
   "source": [
    "point = 10\n",
    "point *= 2\n",
    "point"
   ]
  },
  {
   "cell_type": "code",
   "execution_count": 6,
   "metadata": {},
   "outputs": [
    {
     "output_type": "execute_result",
     "data": {
      "text/plain": "'我が輩は猫である。'"
     },
     "metadata": {},
     "execution_count": 6
    }
   ],
   "source": [
    "who = \"猫\"\n",
    "text = \"\"\n",
    "text += \"我が輩は\"\n",
    "text += who\n",
    "text += \"である。\"\n",
    "text"
   ]
  },
  {
   "cell_type": "code",
   "execution_count": 7,
   "metadata": {},
   "outputs": [
    {
     "output_type": "execute_result",
     "data": {
      "text/plain": "100"
     },
     "metadata": {},
     "execution_count": 7
    }
   ],
   "source": [
    "wallet1 = 100\n",
    "wallet1"
   ]
  },
  {
   "cell_type": "code",
   "execution_count": 9,
   "metadata": {},
   "outputs": [
    {
     "output_type": "execute_result",
     "data": {
      "text/plain": "100"
     },
     "metadata": {},
     "execution_count": 9
    }
   ],
   "source": [
    "wallet2 = wallet1\n",
    "wallet2"
   ]
  },
  {
   "cell_type": "code",
   "execution_count": 10,
   "metadata": {},
   "outputs": [
    {
     "output_type": "execute_result",
     "data": {
      "text/plain": "100"
     },
     "metadata": {},
     "execution_count": 10
    }
   ],
   "source": [
    "wallet1"
   ]
  }
 ],
 "metadata": {
  "language_info": {
   "codemirror_mode": {
    "name": "ipython",
    "version": 3
   },
   "file_extension": ".py",
   "mimetype": "text/x-python",
   "name": "python",
   "nbconvert_exporter": "python",
   "pygments_lexer": "ipython3",
   "version": "3.8.3-final"
  },
  "orig_nbformat": 2,
  "kernelspec": {
   "name": "python38264bitvenvnotevenv23ce147a73fa4435bf31d40948e90d7f",
   "display_name": "Python 3.8.2 64-bit ('venv_note': venv)"
  }
 },
 "nbformat": 4,
 "nbformat_minor": 2
}