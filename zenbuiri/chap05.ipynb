{
 "cells": [
  {
   "cell_type": "code",
   "execution_count": 15,
   "metadata": {},
   "outputs": [],
   "source": [
    "import pathlib\n",
    "path = pathlib.Path('.')\n",
    "for po in path.iterdir():\n",
    "    if po.is_dir():\n",
    "        print(po)"
   ]
  },
  {
   "cell_type": "code",
   "execution_count": 16,
   "metadata": {},
   "outputs": [
    {
     "output_type": "stream",
     "name": "stdout",
     "text": "chap05.ipynb\n"
    }
   ],
   "source": [
    "import pathlib\n",
    "def show_recursive(path):\n",
    "    for po in path.iterdir():\n",
    "        if po.is_dir():\n",
    "            show_recursive(po)\n",
    "        elif po.is_file():\n",
    "            print(po)\n",
    "path = pathlib.Path('.')\n",
    "show_recursive(path)"
   ]
  },
  {
   "cell_type": "code",
   "execution_count": 17,
   "metadata": {},
   "outputs": [
    {
     "output_type": "stream",
     "name": "stdout",
     "text": "chap05.ipynb\n"
    }
   ],
   "source": [
    "import pathlib\n",
    "path = pathlib.Path('.')\n",
    "for po in path.iterdir():\n",
    "    if po.match('*.ipynb'):\n",
    "        print(po)"
   ]
  },
  {
   "cell_type": "code",
   "execution_count": 18,
   "metadata": {},
   "outputs": [
    {
     "output_type": "stream",
     "name": "stdout",
     "text": "chap05.ipynb\n"
    }
   ],
   "source": [
    "import pathlib\n",
    "path = pathlib.Path('.')\n",
    "for po in path.iterdir():\n",
    "    if po.match('*.ipynb') or po.match('*.IPYNB'):\n",
    "        print(po)"
   ]
  },
  {
   "cell_type": "code",
   "execution_count": 28,
   "metadata": {},
   "outputs": [],
   "source": [
    "import zipfile\n",
    "\n",
    "with zipfile.ZipFile('mydir.zip', 'w') as zf:\n",
    "    zf.write('mydir1/test1.txt')\n",
    "    zf.write('mydir1/test2.txt')"
   ]
  },
  {
   "cell_type": "code",
   "execution_count": 29,
   "metadata": {},
   "outputs": [],
   "source": [
    "import zipfile\n",
    "with zipfile.ZipFile('mydir.zip', 'a') as zf:\n",
    "    zf.write('mydir1/test3.txt')"
   ]
  },
  {
   "cell_type": "code",
   "execution_count": 30,
   "metadata": {},
   "outputs": [
    {
     "output_type": "stream",
     "name": "stdout",
     "text": "mydir1/test1.txt\nmydir1/test2.txt\nmydir1/test3.txt\n"
    }
   ],
   "source": [
    "with zipfile.ZipFile('mydir.zip', 'r') as zf:\n",
    "    for info in zf.infolist():\n",
    "        print(info.filename)"
   ]
  },
  {
   "cell_type": "code",
   "execution_count": 31,
   "metadata": {},
   "outputs": [],
   "source": [
    "import zipfile\n",
    "with zipfile.ZipFile('mydir.zip', 'r') as zf:\n",
    "    zf.extractall('extract_dir')"
   ]
  },
  {
   "cell_type": "code",
   "execution_count": null,
   "metadata": {},
   "outputs": [],
   "source": []
  }
 ],
 "metadata": {
  "language_info": {
   "codemirror_mode": {
    "name": "ipython",
    "version": 3
   },
   "file_extension": ".py",
   "mimetype": "text/x-python",
   "name": "python",
   "nbconvert_exporter": "python",
   "pygments_lexer": "ipython3",
   "version": "3.8.2-final"
  },
  "orig_nbformat": 2,
  "kernelspec": {
   "name": "python38264bitvenvnotevenv23ce147a73fa4435bf31d40948e90d7f",
   "display_name": "Python 3.8.2 64-bit ('venv_note': venv)"
  }
 },
 "nbformat": 4,
 "nbformat_minor": 2
}