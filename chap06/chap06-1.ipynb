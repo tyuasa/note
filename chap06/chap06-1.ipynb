{
 "cells": [
  {
   "cell_type": "code",
   "execution_count": 1,
   "metadata": {},
   "outputs": [
    {
     "output_type": "execute_result",
     "data": {
      "text/plain": "[4, 8, 15, 16, 23, 42]"
     },
     "metadata": {},
     "execution_count": 1
    }
   ],
   "source": [
    "numbers = [4,8,15,16,23,42]\n",
    "colors = [\"red\", \"green\", \"blue\"]\n",
    "numbers"
   ]
  },
  {
   "cell_type": "code",
   "execution_count": 2,
   "metadata": {},
   "outputs": [
    {
     "output_type": "execute_result",
     "data": {
      "text/plain": "['red', 'green', 'blue']"
     },
     "metadata": {},
     "execution_count": 2
    }
   ],
   "source": [
    "colors"
   ]
  },
  {
   "cell_type": "code",
   "execution_count": 3,
   "metadata": {},
   "outputs": [
    {
     "output_type": "execute_result",
     "data": {
      "text/plain": "[10, 20, 30]"
     },
     "metadata": {},
     "execution_count": 3
    }
   ],
   "source": [
    "a = 10\n",
    "b = 20\n",
    "c = 30\n",
    "abc = [a, b, c]\n",
    "abc"
   ]
  },
  {
   "cell_type": "code",
   "execution_count": 4,
   "metadata": {},
   "outputs": [
    {
     "output_type": "execute_result",
     "data": {
      "text/plain": "[10, 20, 30]"
     },
     "metadata": {},
     "execution_count": 4
    }
   ],
   "source": [
    "b = 99\n",
    "abc"
   ]
  },
  {
   "cell_type": "code",
   "execution_count": 5,
   "metadata": {},
   "outputs": [
    {
     "output_type": "execute_result",
     "data": {
      "text/plain": "99"
     },
     "metadata": {},
     "execution_count": 5
    }
   ],
   "source": [
    "b"
   ]
  },
  {
   "cell_type": "code",
   "execution_count": 8,
   "metadata": {},
   "outputs": [
    {
     "output_type": "execute_result",
     "data": {
      "text/plain": "[4, 8, 15, 16, 23, 42]"
     },
     "metadata": {},
     "execution_count": 8
    }
   ],
   "source": [
    "numbers = [4, 8, 15, 16, 23, 42]\n",
    "numbers"
   ]
  },
  {
   "cell_type": "code",
   "execution_count": 9,
   "metadata": {},
   "outputs": [
    {
     "output_type": "execute_result",
     "data": {
      "text/plain": "[20, 30, 'dog', 'cat', True, False]"
     },
     "metadata": {},
     "execution_count": 9
    }
   ],
   "source": [
    "mixture = [20, 30, \"dog\", \"cat\", True, False ]\n",
    "mixture"
   ]
  },
  {
   "cell_type": "code",
   "execution_count": 10,
   "metadata": {},
   "outputs": [
    {
     "output_type": "stream",
     "name": "stdout",
     "text": "[11, 22, 33, 44, 55, 66, 77, 88, 99, 100]\n"
    }
   ],
   "source": [
    "data = [\n",
    "    11, 22, 33, 44, 55, # コメント\n",
    "    66, 77,             # コメント\n",
    "    88, 99, 100\n",
    "]\n",
    "print (data)"
   ]
  },
  {
   "cell_type": "code",
   "execution_count": 11,
   "metadata": {},
   "outputs": [
    {
     "output_type": "execute_result",
     "data": {
      "text/plain": "[0, 0, 0, 0, 0, 0, 0, 0, 0, 0]"
     },
     "metadata": {},
     "execution_count": 11
    }
   ],
   "source": [
    "nums = [0]*10\n",
    "nums"
   ]
  },
  {
   "cell_type": "code",
   "execution_count": 12,
   "metadata": {},
   "outputs": [
    {
     "output_type": "execute_result",
     "data": {
      "text/plain": "['xy', 'xy', 'xy', 'xy', 'xy']"
     },
     "metadata": {},
     "execution_count": 12
    }
   ],
   "source": [
    "strs = [\"xy\"]*5\n",
    "strs"
   ]
  },
  {
   "cell_type": "code",
   "execution_count": 13,
   "metadata": {},
   "outputs": [
    {
     "output_type": "execute_result",
     "data": {
      "text/plain": "[False, False, False, False, False]"
     },
     "metadata": {},
     "execution_count": 13
    }
   ],
   "source": [
    "result = [False]*5\n",
    "result"
   ]
  },
  {
   "cell_type": "code",
   "execution_count": 14,
   "metadata": {},
   "outputs": [
    {
     "output_type": "execute_result",
     "data": {
      "text/plain": "[1, 2, 3, 1, 2, 3, 1, 2, 3, 1, 2, 3, 1, 2, 3]"
     },
     "metadata": {},
     "execution_count": 14
    }
   ],
   "source": [
    "data = [1, 2, 3]\n",
    "data * 5"
   ]
  },
  {
   "cell_type": "code",
   "execution_count": 15,
   "metadata": {},
   "outputs": [
    {
     "output_type": "execute_result",
     "data": {
      "text/plain": "[1, 2, 3]"
     },
     "metadata": {},
     "execution_count": 15
    }
   ],
   "source": [
    "data"
   ]
  },
  {
   "cell_type": "code",
   "execution_count": 16,
   "metadata": {},
   "outputs": [
    {
     "output_type": "execute_result",
     "data": {
      "text/plain": "[-5, -4, -3, -2, -1, 0, 1, 2, 3, 4, 5]"
     },
     "metadata": {},
     "execution_count": 16
    }
   ],
   "source": [
    "thelist = list(range(-5, 6))\n",
    "thelist"
   ]
  },
  {
   "cell_type": "code",
   "execution_count": 17,
   "metadata": {},
   "outputs": [
    {
     "output_type": "execute_result",
     "data": {
      "text/plain": "[0, 2, 4, 6, 8]"
     },
     "metadata": {},
     "execution_count": 17
    }
   ],
   "source": [
    "evenlist = list(range(0, 10, 2))\n",
    "evenlist"
   ]
  },
  {
   "cell_type": "code",
   "execution_count": 18,
   "metadata": {},
   "outputs": [
    {
     "output_type": "execute_result",
     "data": {
      "text/plain": "[1, 3, 5, 7, 9]"
     },
     "metadata": {},
     "execution_count": 18
    }
   ],
   "source": [
    "oddlist = list(range(1, 10, 2))\n",
    "oddlist"
   ]
  },
  {
   "cell_type": "code",
   "execution_count": 19,
   "metadata": {},
   "outputs": [
    {
     "output_type": "execute_result",
     "data": {
      "text/plain": "[0, 3, 6, 9, 12, 15, 18]"
     },
     "metadata": {},
     "execution_count": 19
    }
   ],
   "source": [
    "list_x3 = list(range(0, 20, 3))\n",
    "list_x3"
   ]
  },
  {
   "cell_type": "code",
   "execution_count": 20,
   "metadata": {},
   "outputs": [
    {
     "output_type": "execute_result",
     "data": {
      "text/plain": "['h', 'a', 'p', 'p', 'y']"
     },
     "metadata": {},
     "execution_count": 20
    }
   ],
   "source": [
    "list_happy = list(\"happy\")\n",
    "list_happy"
   ]
  },
  {
   "cell_type": "code",
   "execution_count": 21,
   "metadata": {},
   "outputs": [
    {
     "output_type": "execute_result",
     "data": {
      "text/plain": "['日', '月', '加', '水', '木', '金', '土']"
     },
     "metadata": {},
     "execution_count": 21
    }
   ],
   "source": [
    "week = list(\"日月加水木金土\")\n",
    "week"
   ]
  },
  {
   "cell_type": "code",
   "execution_count": 22,
   "metadata": {},
   "outputs": [
    {
     "output_type": "execute_result",
     "data": {
      "text/plain": "[]"
     },
     "metadata": {},
     "execution_count": 22
    }
   ],
   "source": [
    "newlist = list()\n",
    "newlist"
   ]
  },
  {
   "cell_type": "code",
   "execution_count": 23,
   "metadata": {},
   "outputs": [
    {
     "output_type": "execute_result",
     "data": {
      "text/plain": "'blue'"
     },
     "metadata": {},
     "execution_count": 23
    }
   ],
   "source": [
    "colors = [\"blue\", \"red\", \"green\", \"yellow\"]\n",
    "colors[0]"
   ]
  },
  {
   "cell_type": "code",
   "execution_count": 24,
   "metadata": {},
   "outputs": [
    {
     "output_type": "execute_result",
     "data": {
      "text/plain": "'red'"
     },
     "metadata": {},
     "execution_count": 24
    }
   ],
   "source": [
    "colors[1]"
   ]
  },
  {
   "cell_type": "code",
   "execution_count": 25,
   "metadata": {},
   "outputs": [
    {
     "output_type": "execute_result",
     "data": {
      "text/plain": "'green'"
     },
     "metadata": {},
     "execution_count": 25
    }
   ],
   "source": [
    "colors[2]"
   ]
  },
  {
   "cell_type": "code",
   "execution_count": 26,
   "metadata": {},
   "outputs": [
    {
     "output_type": "execute_result",
     "data": {
      "text/plain": "'yellow'"
     },
     "metadata": {},
     "execution_count": 26
    }
   ],
   "source": [
    "colors[3]"
   ]
  },
  {
   "cell_type": "code",
   "execution_count": 27,
   "metadata": {},
   "outputs": [
    {
     "output_type": "execute_result",
     "data": {
      "text/plain": "'yellow'"
     },
     "metadata": {},
     "execution_count": 27
    }
   ],
   "source": [
    "colors[-1]"
   ]
  },
  {
   "cell_type": "code",
   "execution_count": 28,
   "metadata": {},
   "outputs": [
    {
     "output_type": "execute_result",
     "data": {
      "text/plain": "'green'"
     },
     "metadata": {},
     "execution_count": 28
    }
   ],
   "source": [
    "colors[-2]"
   ]
  },
  {
   "cell_type": "code",
   "execution_count": 29,
   "metadata": {},
   "outputs": [
    {
     "output_type": "execute_result",
     "data": {
      "text/plain": "['blue', 'red', 'green', 'yellow']"
     },
     "metadata": {},
     "execution_count": 29
    }
   ],
   "source": [
    "colors"
   ]
  },
  {
   "cell_type": "code",
   "execution_count": 30,
   "metadata": {},
   "outputs": [],
   "source": [
    "colors[2] = \"black\""
   ]
  },
  {
   "cell_type": "code",
   "execution_count": 31,
   "metadata": {},
   "outputs": [
    {
     "output_type": "execute_result",
     "data": {
      "text/plain": "['blue', 'red', 'black', 'yellow']"
     },
     "metadata": {},
     "execution_count": 31
    }
   ],
   "source": [
    "colors"
   ]
  },
  {
   "cell_type": "code",
   "execution_count": 34,
   "metadata": {},
   "outputs": [],
   "source": [
    "list_a = [[\"apple\", \"peach\", \"orange\"], [\"cabbage\", \"carrot\", \"potato\"]]\n",
    "list_b = [[[\"p\", \"y\"], [\"t\", \"h\"]], [[\"o\", \"n\"],[\"3\", \"note\"]]]"
   ]
  },
  {
   "cell_type": "code",
   "execution_count": 35,
   "metadata": {},
   "outputs": [
    {
     "output_type": "execute_result",
     "data": {
      "text/plain": "'cabbage'"
     },
     "metadata": {},
     "execution_count": 35
    }
   ],
   "source": [
    "list_a[1][0]"
   ]
  },
  {
   "cell_type": "code",
   "execution_count": 36,
   "metadata": {},
   "outputs": [
    {
     "output_type": "execute_result",
     "data": {
      "text/plain": "[['p', 'y'], ['t', 'h']]"
     },
     "metadata": {},
     "execution_count": 36
    }
   ],
   "source": [
    "list_b[0]"
   ]
  },
  {
   "cell_type": "code",
   "execution_count": 37,
   "metadata": {},
   "outputs": [
    {
     "output_type": "execute_result",
     "data": {
      "text/plain": "['p', 'y']"
     },
     "metadata": {},
     "execution_count": 37
    }
   ],
   "source": [
    "list_b[0][0]"
   ]
  },
  {
   "cell_type": "code",
   "execution_count": 38,
   "metadata": {},
   "outputs": [
    {
     "output_type": "execute_result",
     "data": {
      "text/plain": "'p'"
     },
     "metadata": {},
     "execution_count": 38
    }
   ],
   "source": [
    "list_b[0][0][0]"
   ]
  },
  {
   "cell_type": "code",
   "execution_count": 39,
   "metadata": {},
   "outputs": [
    {
     "output_type": "execute_result",
     "data": {
      "text/plain": "'note'"
     },
     "metadata": {},
     "execution_count": 39
    }
   ],
   "source": [
    "list_b[1][1][1]"
   ]
  },
  {
   "cell_type": "code",
   "execution_count": 41,
   "metadata": {},
   "outputs": [
    {
     "output_type": "execute_result",
     "data": {
      "text/plain": "[['佐藤', '田中', '鈴木'], ['青木', '広田', '野村']]"
     },
     "metadata": {},
     "execution_count": 41
    }
   ],
   "source": [
    "r101 = \"佐藤\"\n",
    "r102 = \"田中\"\n",
    "r103 = \"鈴木\"\n",
    "r201 = \"青木\"\n",
    "r202 = \"広田\"\n",
    "r203 = \"野村\"\n",
    "floor1 = [r101, r102, r103]\n",
    "floor2 = [r201, r202, r203]\n",
    "apartment = [floor1, floor2]\n",
    "apartment"
   ]
  },
  {
   "cell_type": "code",
   "execution_count": 42,
   "metadata": {},
   "outputs": [
    {
     "output_type": "execute_result",
     "data": {
      "text/plain": "'田中'"
     },
     "metadata": {},
     "execution_count": 42
    }
   ],
   "source": [
    "apartment[0][1]"
   ]
  },
  {
   "cell_type": "code",
   "execution_count": 43,
   "metadata": {},
   "outputs": [],
   "source": [
    "apartment[1][2] = \"マイケル\""
   ]
  },
  {
   "cell_type": "code",
   "execution_count": 44,
   "metadata": {},
   "outputs": [
    {
     "output_type": "execute_result",
     "data": {
      "text/plain": "['青木', '広田', 'マイケル']"
     },
     "metadata": {},
     "execution_count": 44
    }
   ],
   "source": [
    "apartment[1]"
   ]
  },
  {
   "cell_type": "code",
   "execution_count": 51,
   "metadata": {},
   "outputs": [
    {
     "output_type": "stream",
     "name": "stdout",
     "text": "blue\n"
    }
   ],
   "source": [
    "pos = int(input(\"取り出す位置：\")) # リストから取り出す位置を入力する\n",
    "colors = [\"blue\", \"red\", \"green\", \"yellow\"]\n",
    "length = len(colors) #リストの長さ（要素の数）\n",
    "if -length<=pos<length :\n",
    "    item = colors[pos]\n",
    "    print(item)\n",
    "else :\n",
    "    print(\"エラーになりました。\")"
   ]
  },
  {
   "cell_type": "code",
   "execution_count": 53,
   "metadata": {},
   "outputs": [
    {
     "output_type": "stream",
     "name": "stdout",
     "text": "インデックスエラーです\n"
    }
   ],
   "source": [
    "pos = int (input(\"取り出す位置：\"))\n",
    "colors = [\"blue\", \"red\", \"green\", \"yellow\"]\n",
    "try :\n",
    "    item = colors[pos]\n",
    "    print(item)\n",
    "except IndexError:\n",
    "    print(\"インデックスエラーです\")\n",
    "except Exception as error:\n",
    "    print(error)"
   ]
  },
  {
   "cell_type": "code",
   "execution_count": 54,
   "metadata": {},
   "outputs": [
    {
     "output_type": "execute_result",
     "data": {
      "text/plain": "[10, 20]"
     },
     "metadata": {},
     "execution_count": 54
    }
   ],
   "source": [
    "data = []\n",
    "data.append(10)\n",
    "data.append(20)\n",
    "data"
   ]
  },
  {
   "cell_type": "code",
   "execution_count": 55,
   "metadata": {},
   "outputs": [
    {
     "output_type": "execute_result",
     "data": {
      "text/plain": "[10, 20, 30]"
     },
     "metadata": {},
     "execution_count": 55
    }
   ],
   "source": [
    "data.append(30)\n",
    "data"
   ]
  },
  {
   "cell_type": "code",
   "execution_count": 58,
   "metadata": {},
   "outputs": [
    {
     "output_type": "execute_result",
     "data": {
      "text/plain": "['a', 'b', 'c', 'new', 'd', 'e', 'f']"
     },
     "metadata": {},
     "execution_count": 58
    }
   ],
   "source": [
    "data = [\"a\", \"b\", \"c\", \"d\", \"e\", \"f\"]\n",
    "data.insert(3, \"new\")\n",
    "data"
   ]
  },
  {
   "cell_type": "code",
   "execution_count": 60,
   "metadata": {},
   "outputs": [
    {
     "output_type": "execute_result",
     "data": {
      "text/plain": "'peach'"
     },
     "metadata": {},
     "execution_count": 60
    }
   ],
   "source": [
    "fruits = [\"apple\", \"orange\", \"banna\", \"peach\"]\n",
    "dessert = fruits.pop()\n",
    "dessert"
   ]
  },
  {
   "cell_type": "code",
   "execution_count": 61,
   "metadata": {},
   "outputs": [
    {
     "output_type": "execute_result",
     "data": {
      "text/plain": "['apple', 'orange', 'banna']"
     },
     "metadata": {},
     "execution_count": 61
    }
   ],
   "source": [
    "fruits"
   ]
  },
  {
   "cell_type": "code",
   "execution_count": 62,
   "metadata": {},
   "outputs": [
    {
     "output_type": "execute_result",
     "data": {
      "text/plain": "'apple'"
     },
     "metadata": {},
     "execution_count": 62
    }
   ],
   "source": [
    "fruits = [\"apple\", \"orange\", \"banna\", \"peach\"]\n",
    "dessert = fruits.pop(0)\n",
    "dessert"
   ]
  },
  {
   "cell_type": "code",
   "execution_count": 63,
   "metadata": {},
   "outputs": [
    {
     "output_type": "execute_result",
     "data": {
      "text/plain": "['orange', 'banna', 'peach']"
     },
     "metadata": {},
     "execution_count": 63
    }
   ],
   "source": [
    "fruits"
   ]
  },
  {
   "cell_type": "code",
   "execution_count": 64,
   "metadata": {},
   "outputs": [
    {
     "output_type": "error",
     "ename": "IndexError",
     "evalue": "pop from empty list",
     "traceback": [
      "\u001b[0;31m---------------------------------------------------------------------------\u001b[0m",
      "\u001b[0;31mIndexError\u001b[0m                                Traceback (most recent call last)",
      "\u001b[0;32m<ipython-input-64-db5cec0f35b4>\u001b[0m in \u001b[0;36m<module>\u001b[0;34m\u001b[0m\n\u001b[1;32m      1\u001b[0m \u001b[0mfruits\u001b[0m \u001b[0;34m=\u001b[0m \u001b[0;34m[\u001b[0m\u001b[0;34m]\u001b[0m\u001b[0;34m\u001b[0m\u001b[0;34m\u001b[0m\u001b[0m\n\u001b[0;32m----> 2\u001b[0;31m \u001b[0mdessert\u001b[0m \u001b[0;34m=\u001b[0m \u001b[0mfruits\u001b[0m\u001b[0;34m.\u001b[0m\u001b[0mpop\u001b[0m\u001b[0;34m(\u001b[0m\u001b[0;34m)\u001b[0m\u001b[0;34m\u001b[0m\u001b[0;34m\u001b[0m\u001b[0m\n\u001b[0m",
      "\u001b[0;31mIndexError\u001b[0m: pop from empty list"
     ]
    }
   ],
   "source": [
    "fruits = []\n",
    "dessert = fruits.pop()"
   ]
  },
  {
   "cell_type": "code",
   "execution_count": 66,
   "metadata": {},
   "outputs": [
    {
     "output_type": "stream",
     "name": "stdout",
     "text": "[]\n"
    }
   ],
   "source": [
    "fruits = []\n",
    "if fruits :\n",
    "    dessert = fruits.pop()\n",
    "    print(\"デザートは\" + dessert)\n",
    "print(fruits)"
   ]
  },
  {
   "cell_type": "code",
   "execution_count": 67,
   "metadata": {},
   "outputs": [
    {
     "output_type": "stream",
     "name": "stdout",
     "text": "エラーになりました\n"
    }
   ],
   "source": [
    "fruits = []\n",
    "try :\n",
    "    dessert = fruits.pop()\n",
    "    print(\"デザートは\" + dessert)\n",
    "    print(fruits)\n",
    "except : print(\"エラーになりました\")"
   ]
  },
  {
   "cell_type": "code",
   "execution_count": null,
   "metadata": {},
   "outputs": [],
   "source": []
  }
 ],
 "metadata": {
  "language_info": {
   "codemirror_mode": {
    "name": "ipython",
    "version": 3
   },
   "file_extension": ".py",
   "mimetype": "text/x-python",
   "name": "python",
   "nbconvert_exporter": "python",
   "pygments_lexer": "ipython3",
   "version": "3.8.2-final"
  },
  "orig_nbformat": 2,
  "kernelspec": {
   "name": "python38264bitvenvnotevenv29d46958a2cf4244b665d6081c193529",
   "display_name": "Python 3.8.2 64-bit ('venv_note': venv)"
  }
 },
 "nbformat": 4,
 "nbformat_minor": 2
}