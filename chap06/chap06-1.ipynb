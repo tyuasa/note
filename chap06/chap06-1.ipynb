{
 "cells": [
  {
   "cell_type": "code",
   "execution_count": 1,
   "metadata": {},
   "outputs": [
    {
     "output_type": "execute_result",
     "data": {
      "text/plain": "[4, 8, 15, 16, 23, 42]"
     },
     "metadata": {},
     "execution_count": 1
    }
   ],
   "source": [
    "numbers = [4, 8, 15, 16, 23, 42]\n",
    "colors = [\"red\", \"green\", \"blue\"]\n",
    "numbers"
   ]
  },
  {
   "cell_type": "code",
   "execution_count": 2,
   "metadata": {},
   "outputs": [
    {
     "output_type": "execute_result",
     "data": {
      "text/plain": "['red', 'green', 'blue']"
     },
     "metadata": {},
     "execution_count": 2
    }
   ],
   "source": [
    "colors"
   ]
  },
  {
   "cell_type": "code",
   "execution_count": 3,
   "metadata": {},
   "outputs": [
    {
     "output_type": "execute_result",
     "data": {
      "text/plain": "[10, 20, 30]"
     },
     "metadata": {},
     "execution_count": 3
    }
   ],
   "source": [
    "a = 10\n",
    "b = 20\n",
    "c = 30\n",
    "abc =[a,b,c]\n",
    "abc"
   ]
  },
  {
   "cell_type": "code",
   "execution_count": 4,
   "metadata": {},
   "outputs": [
    {
     "output_type": "execute_result",
     "data": {
      "text/plain": "[10, 20, 30]"
     },
     "metadata": {},
     "execution_count": 4
    }
   ],
   "source": [
    "b = 99\n",
    "abc"
   ]
  },
  {
   "cell_type": "code",
   "execution_count": 5,
   "metadata": {},
   "outputs": [],
   "source": [
    "numbers = [4, 8, 15, 16, 23, 42]\n",
    "words = [\"flower\", \"bird\", \"wind\", \"moon\"]\n",
    "mixture = [20,30, \"dog\", \"cat\", True, False]"
   ]
  },
  {
   "cell_type": "code",
   "execution_count": 6,
   "metadata": {
    "tags": []
   },
   "outputs": [
    {
     "output_type": "stream",
     "name": "stdout",
     "text": "[11, 22, 33, 44, 55, 66, 77, 88, 99, 100]\n"
    }
   ],
   "source": [
    "data = [\n",
    "    11, 22, 33, 44, 55, #コメント\n",
    "    66, 77,             #コメント\n",
    "    88, 99, 100\n",
    "\n",
    "]\n",
    "print(data)"
   ]
  },
  {
   "cell_type": "code",
   "execution_count": 7,
   "metadata": {},
   "outputs": [
    {
     "output_type": "execute_result",
     "data": {
      "text/plain": "[11, 22, 33, 44, 55, 66, 77, 88, 99, 100]"
     },
     "metadata": {},
     "execution_count": 7
    }
   ],
   "source": [
    "data"
   ]
  },
  {
   "cell_type": "code",
   "execution_count": 8,
   "metadata": {},
   "outputs": [
    {
     "output_type": "execute_result",
     "data": {
      "text/plain": "[0, 0, 0, 0, 0, 0, 0, 0, 0, 0]"
     },
     "metadata": {},
     "execution_count": 8
    }
   ],
   "source": [
    "nums = [0]*10\n",
    "nums"
   ]
  },
  {
   "cell_type": "code",
   "execution_count": 9,
   "metadata": {},
   "outputs": [
    {
     "output_type": "execute_result",
     "data": {
      "text/plain": "['xy', 'xy', 'xy', 'xy', 'xy']"
     },
     "metadata": {},
     "execution_count": 9
    }
   ],
   "source": [
    "strs = [\"xy\"]*5\n",
    "strs"
   ]
  },
  {
   "cell_type": "code",
   "execution_count": 11,
   "metadata": {},
   "outputs": [
    {
     "output_type": "execute_result",
     "data": {
      "text/plain": "[False, False, False, False, False]"
     },
     "metadata": {},
     "execution_count": 11
    }
   ],
   "source": [
    "result = [False]*5\n",
    "result"
   ]
  },
  {
   "cell_type": "code",
   "execution_count": 12,
   "metadata": {},
   "outputs": [
    {
     "output_type": "execute_result",
     "data": {
      "text/plain": "[1, 2, 3, 1, 2, 3, 1, 2, 3, 1, 2, 3, 1, 2, 3]"
     },
     "metadata": {},
     "execution_count": 12
    }
   ],
   "source": [
    "data = [1,2,3]\n",
    "data * 5"
   ]
  },
  {
   "cell_type": "code",
   "execution_count": 13,
   "metadata": {},
   "outputs": [
    {
     "output_type": "execute_result",
     "data": {
      "text/plain": "[-5, -4, -3, -2, -1, 0, 1, 2, 3, 4, 5]"
     },
     "metadata": {},
     "execution_count": 13
    }
   ],
   "source": [
    "thelist = list (range (-5, 6))\n",
    "thelist"
   ]
  },
  {
   "cell_type": "code",
   "execution_count": 14,
   "metadata": {},
   "outputs": [
    {
     "output_type": "execute_result",
     "data": {
      "text/plain": "[0, 2, 4, 6, 8]"
     },
     "metadata": {},
     "execution_count": 14
    }
   ],
   "source": [
    "eventlist = list(range(0, 10, 2))\n",
    "eventlist"
   ]
  },
  {
   "cell_type": "code",
   "execution_count": 15,
   "metadata": {},
   "outputs": [
    {
     "output_type": "execute_result",
     "data": {
      "text/plain": "[1, 3, 5, 7, 9]"
     },
     "metadata": {},
     "execution_count": 15
    }
   ],
   "source": [
    "oddlist = list (range (1, 10, 2))\n",
    "oddlist"
   ]
  },
  {
   "cell_type": "code",
   "execution_count": 16,
   "metadata": {},
   "outputs": [
    {
     "output_type": "execute_result",
     "data": {
      "text/plain": "[0, 3, 6, 9, 12, 15, 18]"
     },
     "metadata": {},
     "execution_count": 16
    }
   ],
   "source": [
    "list_x3 = list(range(0, 20, 3))\n",
    "list_x3"
   ]
  },
  {
   "cell_type": "code",
   "execution_count": 17,
   "metadata": {},
   "outputs": [
    {
     "output_type": "execute_result",
     "data": {
      "text/plain": "['h', 'a', 'p', 'p', 'y']"
     },
     "metadata": {},
     "execution_count": 17
    }
   ],
   "source": [
    "list_happy = list(\"happy\")\n",
    "list_happy"
   ]
  },
  {
   "cell_type": "code",
   "execution_count": 18,
   "metadata": {},
   "outputs": [
    {
     "output_type": "execute_result",
     "data": {
      "text/plain": "['日', '月', '火', '水', '木', '金', '土']"
     },
     "metadata": {},
     "execution_count": 18
    }
   ],
   "source": [
    "week = list(\"日月火水木金土\")\n",
    "week"
   ]
  },
  {
   "cell_type": "code",
   "execution_count": 19,
   "metadata": {},
   "outputs": [
    {
     "output_type": "execute_result",
     "data": {
      "text/plain": "[]"
     },
     "metadata": {},
     "execution_count": 19
    }
   ],
   "source": [
    "newlist = list()\n",
    "newlist"
   ]
  },
  {
   "cell_type": "code",
   "execution_count": null,
   "metadata": {},
   "outputs": [],
   "source": []
  }
 ],
 "metadata": {
  "language_info": {
   "codemirror_mode": {
    "name": "ipython",
    "version": 3
   },
   "file_extension": ".py",
   "mimetype": "text/x-python",
   "name": "python",
   "nbconvert_exporter": "python",
   "pygments_lexer": "ipython3",
   "version": "3.8.3-final"
  },
  "orig_nbformat": 2,
  "kernelspec": {
   "name": "python38364bitd54f81a146104498935be01bbf31dd85",
   "display_name": "Python 3.8.3 64-bit"
  }
 },
 "nbformat": 4,
 "nbformat_minor": 2
}