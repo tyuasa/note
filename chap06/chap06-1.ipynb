{
 "cells": [
  {
   "cell_type": "code",
   "execution_count": 1,
   "metadata": {},
   "outputs": [
    {
     "output_type": "execute_result",
     "data": {
      "text/plain": "[4, 8, 15, 16, 23, 42]"
     },
     "metadata": {},
     "execution_count": 1
    }
   ],
   "source": [
    "numbers = [4, 8, 15, 16, 23, 42]\n",
    "colors = [\"red\", \"green\", \"blue\"]\n",
    "numbers"
   ]
  },
  {
   "cell_type": "code",
   "execution_count": 2,
   "metadata": {},
   "outputs": [
    {
     "output_type": "execute_result",
     "data": {
      "text/plain": "['red', 'green', 'blue']"
     },
     "metadata": {},
     "execution_count": 2
    }
   ],
   "source": [
    "colors"
   ]
  },
  {
   "cell_type": "code",
   "execution_count": 3,
   "metadata": {},
   "outputs": [
    {
     "output_type": "execute_result",
     "data": {
      "text/plain": "[10, 20, 30]"
     },
     "metadata": {},
     "execution_count": 3
    }
   ],
   "source": [
    "a = 10\n",
    "b = 20\n",
    "c = 30\n",
    "abc =[a,b,c]\n",
    "abc"
   ]
  },
  {
   "cell_type": "code",
   "execution_count": 4,
   "metadata": {},
   "outputs": [
    {
     "output_type": "execute_result",
     "data": {
      "text/plain": "[10, 20, 30]"
     },
     "metadata": {},
     "execution_count": 4
    }
   ],
   "source": [
    "b = 99\n",
    "abc"
   ]
  },
  {
   "cell_type": "code",
   "execution_count": 5,
   "metadata": {},
   "outputs": [],
   "source": [
    "numbers = [4, 8, 15, 16, 23, 42]\n",
    "words = [\"flower\", \"bird\", \"wind\", \"moon\"]\n",
    "mixture = [20,30, \"dog\", \"cat\", True, False]"
   ]
  },
  {
   "cell_type": "code",
   "execution_count": 6,
   "metadata": {
    "tags": []
   },
   "outputs": [
    {
     "output_type": "stream",
     "name": "stdout",
     "text": "[11, 22, 33, 44, 55, 66, 77, 88, 99, 100]\n"
    }
   ],
   "source": [
    "data = [\n",
    "    11, 22, 33, 44, 55, #コメント\n",
    "    66, 77,             #コメント\n",
    "    88, 99, 100\n",
    "\n",
    "]\n",
    "print(data)"
   ]
  },
  {
   "cell_type": "code",
   "execution_count": 7,
   "metadata": {},
   "outputs": [
    {
     "output_type": "execute_result",
     "data": {
      "text/plain": "[11, 22, 33, 44, 55, 66, 77, 88, 99, 100]"
     },
     "metadata": {},
     "execution_count": 7
    }
   ],
   "source": [
    "data"
   ]
  },
  {
   "cell_type": "code",
   "execution_count": 8,
   "metadata": {},
   "outputs": [
    {
     "output_type": "execute_result",
     "data": {
      "text/plain": "[0, 0, 0, 0, 0, 0, 0, 0, 0, 0]"
     },
     "metadata": {},
     "execution_count": 8
    }
   ],
   "source": [
    "nums = [0]*10\n",
    "nums"
   ]
  },
  {
   "cell_type": "code",
   "execution_count": 9,
   "metadata": {},
   "outputs": [
    {
     "output_type": "execute_result",
     "data": {
      "text/plain": "['xy', 'xy', 'xy', 'xy', 'xy']"
     },
     "metadata": {},
     "execution_count": 9
    }
   ],
   "source": [
    "strs = [\"xy\"]*5\n",
    "strs"
   ]
  },
  {
   "cell_type": "code",
   "execution_count": 11,
   "metadata": {},
   "outputs": [
    {
     "output_type": "execute_result",
     "data": {
      "text/plain": "[False, False, False, False, False]"
     },
     "metadata": {},
     "execution_count": 11
    }
   ],
   "source": [
    "result = [False]*5\n",
    "result"
   ]
  },
  {
   "cell_type": "code",
   "execution_count": 12,
   "metadata": {},
   "outputs": [
    {
     "output_type": "execute_result",
     "data": {
      "text/plain": "[1, 2, 3, 1, 2, 3, 1, 2, 3, 1, 2, 3, 1, 2, 3]"
     },
     "metadata": {},
     "execution_count": 12
    }
   ],
   "source": [
    "data = [1,2,3]\n",
    "data * 5"
   ]
  },
  {
   "cell_type": "code",
   "execution_count": 13,
   "metadata": {},
   "outputs": [
    {
     "output_type": "execute_result",
     "data": {
      "text/plain": "[-5, -4, -3, -2, -1, 0, 1, 2, 3, 4, 5]"
     },
     "metadata": {},
     "execution_count": 13
    }
   ],
   "source": [
    "thelist = list (range (-5, 6))\n",
    "thelist"
   ]
  },
  {
   "cell_type": "code",
   "execution_count": 14,
   "metadata": {},
   "outputs": [
    {
     "output_type": "execute_result",
     "data": {
      "text/plain": "[0, 2, 4, 6, 8]"
     },
     "metadata": {},
     "execution_count": 14
    }
   ],
   "source": [
    "eventlist = list(range(0, 10, 2))\n",
    "eventlist"
   ]
  },
  {
   "cell_type": "code",
   "execution_count": 15,
   "metadata": {},
   "outputs": [
    {
     "output_type": "execute_result",
     "data": {
      "text/plain": "[1, 3, 5, 7, 9]"
     },
     "metadata": {},
     "execution_count": 15
    }
   ],
   "source": [
    "oddlist = list (range (1, 10, 2))\n",
    "oddlist"
   ]
  },
  {
   "cell_type": "code",
   "execution_count": 16,
   "metadata": {},
   "outputs": [
    {
     "output_type": "execute_result",
     "data": {
      "text/plain": "[0, 3, 6, 9, 12, 15, 18]"
     },
     "metadata": {},
     "execution_count": 16
    }
   ],
   "source": [
    "list_x3 = list(range(0, 20, 3))\n",
    "list_x3"
   ]
  },
  {
   "cell_type": "code",
   "execution_count": 17,
   "metadata": {},
   "outputs": [
    {
     "output_type": "execute_result",
     "data": {
      "text/plain": "['h', 'a', 'p', 'p', 'y']"
     },
     "metadata": {},
     "execution_count": 17
    }
   ],
   "source": [
    "list_happy = list(\"happy\")\n",
    "list_happy"
   ]
  },
  {
   "cell_type": "code",
   "execution_count": 18,
   "metadata": {},
   "outputs": [
    {
     "output_type": "execute_result",
     "data": {
      "text/plain": "['日', '月', '火', '水', '木', '金', '土']"
     },
     "metadata": {},
     "execution_count": 18
    }
   ],
   "source": [
    "week = list(\"日月火水木金土\")\n",
    "week"
   ]
  },
  {
   "cell_type": "code",
   "execution_count": 19,
   "metadata": {},
   "outputs": [
    {
     "output_type": "execute_result",
     "data": {
      "text/plain": "[]"
     },
     "metadata": {},
     "execution_count": 19
    }
   ],
   "source": [
    "newlist = list()\n",
    "newlist"
   ]
  },
  {
   "cell_type": "code",
   "execution_count": 1,
   "metadata": {},
   "outputs": [
    {
     "output_type": "execute_result",
     "data": {
      "text/plain": "'blue'"
     },
     "metadata": {},
     "execution_count": 1
    }
   ],
   "source": [
    "colors = [\"blue\", \"red\", \"green\", \"yellow\"]\n",
    "colors [0]"
   ]
  },
  {
   "cell_type": "code",
   "execution_count": 2,
   "metadata": {},
   "outputs": [
    {
     "output_type": "execute_result",
     "data": {
      "text/plain": "'red'"
     },
     "metadata": {},
     "execution_count": 2
    }
   ],
   "source": [
    "colors[1]"
   ]
  },
  {
   "cell_type": "code",
   "execution_count": 3,
   "metadata": {},
   "outputs": [
    {
     "output_type": "execute_result",
     "data": {
      "text/plain": "'green'"
     },
     "metadata": {},
     "execution_count": 3
    }
   ],
   "source": [
    "colors[2]"
   ]
  },
  {
   "cell_type": "code",
   "execution_count": 4,
   "metadata": {},
   "outputs": [
    {
     "output_type": "execute_result",
     "data": {
      "text/plain": "'yellow'"
     },
     "metadata": {},
     "execution_count": 4
    }
   ],
   "source": [
    "colors[3]"
   ]
  },
  {
   "cell_type": "code",
   "execution_count": 5,
   "metadata": {},
   "outputs": [
    {
     "output_type": "execute_result",
     "data": {
      "text/plain": "'yellow'"
     },
     "metadata": {},
     "execution_count": 5
    }
   ],
   "source": [
    "colors[-1]"
   ]
  },
  {
   "cell_type": "code",
   "execution_count": 6,
   "metadata": {},
   "outputs": [
    {
     "output_type": "execute_result",
     "data": {
      "text/plain": "'green'"
     },
     "metadata": {},
     "execution_count": 6
    }
   ],
   "source": [
    "colors[-2]"
   ]
  },
  {
   "cell_type": "code",
   "execution_count": 7,
   "metadata": {},
   "outputs": [
    {
     "output_type": "execute_result",
     "data": {
      "text/plain": "['blue', 'red', 'green', 'yellow']"
     },
     "metadata": {},
     "execution_count": 7
    }
   ],
   "source": [
    "colors"
   ]
  },
  {
   "cell_type": "code",
   "execution_count": 8,
   "metadata": {},
   "outputs": [
    {
     "output_type": "execute_result",
     "data": {
      "text/plain": "['blue', 'red', 'black', 'yellow']"
     },
     "metadata": {},
     "execution_count": 8
    }
   ],
   "source": [
    "colors =[\"blue\", \"red\", \"green\", \"yellow\"]\n",
    "colors[2] = \"black\"\n",
    "colors"
   ]
  },
  {
   "cell_type": "code",
   "execution_count": 10,
   "metadata": {},
   "outputs": [
    {
     "output_type": "execute_result",
     "data": {
      "text/plain": "'cabbage'"
     },
     "metadata": {},
     "execution_count": 10
    }
   ],
   "source": [
    "list_a = [[\"apple\", \"peach\", \"orange\"], [\"cabbage\", \"carrot\", \"popato\"]]\n",
    "list_b = [[[\"p\", \"y\"], [\"t\", \"h\"]], [[\"o\", \"n\"], [\"3\", \"note\"]]]\n",
    "list_a[1][0]"
   ]
  },
  {
   "cell_type": "code",
   "execution_count": 11,
   "metadata": {},
   "outputs": [
    {
     "output_type": "execute_result",
     "data": {
      "text/plain": "[['p', 'y'], ['t', 'h']]"
     },
     "metadata": {},
     "execution_count": 11
    }
   ],
   "source": [
    "list_b[0]"
   ]
  },
  {
   "cell_type": "code",
   "execution_count": 12,
   "metadata": {},
   "outputs": [
    {
     "output_type": "execute_result",
     "data": {
      "text/plain": "['p', 'y']"
     },
     "metadata": {},
     "execution_count": 12
    }
   ],
   "source": [
    "list_b[0][0]"
   ]
  },
  {
   "cell_type": "code",
   "execution_count": 14,
   "metadata": {},
   "outputs": [
    {
     "output_type": "execute_result",
     "data": {
      "text/plain": "'p'"
     },
     "metadata": {},
     "execution_count": 14
    }
   ],
   "source": [
    "list_b[0][0][0]"
   ]
  },
  {
   "cell_type": "code",
   "execution_count": 15,
   "metadata": {},
   "outputs": [
    {
     "output_type": "execute_result",
     "data": {
      "text/plain": "'note'"
     },
     "metadata": {},
     "execution_count": 15
    }
   ],
   "source": [
    "list_b[1][1][1]"
   ]
  },
  {
   "cell_type": "code",
   "execution_count": 16,
   "metadata": {},
   "outputs": [
    {
     "output_type": "execute_result",
     "data": {
      "text/plain": "[['佐藤', '田中', '鈴木'], ['青木', '広田', '野村']]"
     },
     "metadata": {},
     "execution_count": 16
    }
   ],
   "source": [
    "r101 = \"佐藤\"\n",
    "r102 = \"田中\"\n",
    "r103 = \"鈴木\"\n",
    "r201 = \"青木\"\n",
    "r202 = \"広田\"\n",
    "r203 = \"野村\"\n",
    "floor1 = [r101, r102, r103]\n",
    "floor2 = [r201, r202, r203]\n",
    "apartment = [floor1, floor2]\n",
    "apartment"
   ]
  },
  {
   "cell_type": "code",
   "execution_count": 17,
   "metadata": {},
   "outputs": [
    {
     "output_type": "execute_result",
     "data": {
      "text/plain": "['青木', '広田', 'マイケル']"
     },
     "metadata": {},
     "execution_count": 17
    }
   ],
   "source": [
    "apartment[1][2] = \"マイケル\"\n",
    "apartmen"
   ]
  },
  {
   "cell_type": "code",
   "execution_count": 19,
   "metadata": {
    "tags": []
   },
   "outputs": [
    {
     "output_type": "stream",
     "name": "stdout",
     "text": "エラーになりました。\n"
    }
   ],
   "source": [
    "pos = int(input(\"取り出す位置：\"))\n",
    "colors = [\"blue\", \"red\", \"green\", \"yellow\"]\n",
    "length = len(colors)\n",
    "if -length<= pos< length :\n",
    "    item = colors[pos]\n",
    "    print(item)\n",
    "else :\n",
    "    print(\"エラーになりました。\")"
   ]
  },
  {
   "cell_type": "code",
   "execution_count": 21,
   "metadata": {
    "tags": []
   },
   "outputs": [
    {
     "output_type": "stream",
     "name": "stdout",
     "text": "インデックスエラーです\n"
    }
   ],
   "source": [
    "pos = int(input(\"取り出す位置：\"))\n",
    "colors = [\"blue\", \"red\", \"green\", \"yellow\"]\n",
    "\n",
    "try :\n",
    "    item = colors[pos]\n",
    "    print(item)\n",
    "except IndexError :\n",
    "    print(\"インデックスエラーです\")\n",
    "except Exception as error :\n",
    "    print(error)"
   ]
  },
  {
   "cell_type": "code",
   "execution_count": 22,
   "metadata": {},
   "outputs": [
    {
     "output_type": "execute_result",
     "data": {
      "text/plain": "[10, 20]"
     },
     "metadata": {},
     "execution_count": 22
    }
   ],
   "source": [
    "data = []\n",
    "data.append(10)\n",
    "data.append(20)\n",
    "data"
   ]
  },
  {
   "cell_type": "code",
   "execution_count": 23,
   "metadata": {},
   "outputs": [
    {
     "output_type": "execute_result",
     "data": {
      "text/plain": "[10, 20, 30]"
     },
     "metadata": {},
     "execution_count": 23
    }
   ],
   "source": [
    "data.append(30)\n",
    "data"
   ]
  },
  {
   "cell_type": "code",
   "execution_count": 24,
   "metadata": {},
   "outputs": [
    {
     "output_type": "execute_result",
     "data": {
      "text/plain": "['a', 'b', 'c', 'new', 'd', 'e', 'f']"
     },
     "metadata": {},
     "execution_count": 24
    }
   ],
   "source": [
    "data =[\"a\", \"b\", \"c\", \"d\", \"e\", \"f\"]\n",
    "data.insert (3, \"new\")\n",
    "data"
   ]
  },
  {
   "cell_type": "code",
   "execution_count": 25,
   "metadata": {},
   "outputs": [
    {
     "output_type": "execute_result",
     "data": {
      "text/plain": "'peach'"
     },
     "metadata": {},
     "execution_count": 25
    }
   ],
   "source": [
    "fruits = [\"apple\", \"orange\", \"banana\", \"peach\"]\n",
    "dessert = fruits.pop()\n",
    "dessert"
   ]
  },
  {
   "cell_type": "code",
   "execution_count": 26,
   "metadata": {},
   "outputs": [
    {
     "output_type": "execute_result",
     "data": {
      "text/plain": "['apple', 'orange', 'banana']"
     },
     "metadata": {},
     "execution_count": 26
    }
   ],
   "source": [
    "fruits"
   ]
  },
  {
   "cell_type": "code",
   "execution_count": 27,
   "metadata": {},
   "outputs": [
    {
     "output_type": "execute_result",
     "data": {
      "text/plain": "'apple'"
     },
     "metadata": {},
     "execution_count": 27
    }
   ],
   "source": [
    "fruits = [\"apple\", \"orange\", \"banana\", \"peach\"]\n",
    "dessert = fruits.pop(0)\n",
    "dessert"
   ]
  },
  {
   "cell_type": "code",
   "execution_count": 28,
   "metadata": {},
   "outputs": [
    {
     "output_type": "execute_result",
     "data": {
      "text/plain": "['orange', 'banana', 'peach']"
     },
     "metadata": {},
     "execution_count": 28
    }
   ],
   "source": [
    "fruits"
   ]
  },
  {
   "cell_type": "code",
   "execution_count": 29,
   "metadata": {},
   "outputs": [
    {
     "output_type": "error",
     "ename": "IndexError",
     "evalue": "pop from empty list",
     "traceback": [
      "\u001b[0;31m---------------------------------------------------------------------------\u001b[0m",
      "\u001b[0;31mIndexError\u001b[0m                                Traceback (most recent call last)",
      "\u001b[0;32m<ipython-input-29-fd48c28e596a>\u001b[0m in \u001b[0;36m<module>\u001b[0;34m\u001b[0m\n\u001b[1;32m      1\u001b[0m \u001b[0mfruits\u001b[0m\u001b[0;34m=\u001b[0m\u001b[0;34m[\u001b[0m\u001b[0;34m]\u001b[0m\u001b[0;34m\u001b[0m\u001b[0;34m\u001b[0m\u001b[0m\n\u001b[0;32m----> 2\u001b[0;31m \u001b[0mdessert\u001b[0m \u001b[0;34m=\u001b[0m \u001b[0mfruits\u001b[0m\u001b[0;34m.\u001b[0m\u001b[0mpop\u001b[0m\u001b[0;34m(\u001b[0m\u001b[0;34m)\u001b[0m\u001b[0;34m\u001b[0m\u001b[0;34m\u001b[0m\u001b[0m\n\u001b[0m",
      "\u001b[0;31mIndexError\u001b[0m: pop from empty list"
     ]
    }
   ],
   "source": [
    "fruits=[]\n",
    "dessert = fruits.pop()"
   ]
  },
  {
   "cell_type": "code",
   "execution_count": 30,
   "metadata": {
    "tags": []
   },
   "outputs": [
    {
     "output_type": "stream",
     "name": "stdout",
     "text": "デザートはpeach\n['apple', 'orange', 'banana']\n"
    }
   ],
   "source": [
    "fruits = [\"apple\", \"orange\", \"banana\", \"peach\"]\n",
    "if fruits :\n",
    "    dessert = fruits.pop()\n",
    "    print(\"デザートは\" + dessert )\n",
    "print(fruits)"
   ]
  },
  {
   "cell_type": "code",
   "execution_count": 31,
   "metadata": {
    "tags": []
   },
   "outputs": [
    {
     "output_type": "stream",
     "name": "stdout",
     "text": "エラーになりました。\n"
    }
   ],
   "source": [
    "fruits = []\n",
    "try :\n",
    "    dessert = fruits.pop()\n",
    "    print(\"デザートは\" + dessert )\n",
    "    print(fruits)\n",
    "except :\n",
    "    print(\"エラーになりました。\")"
   ]
  },
  {
   "cell_type": "code",
   "execution_count": 32,
   "metadata": {
    "tags": []
   },
   "outputs": [
    {
     "output_type": "stream",
     "name": "stdout",
     "text": "削除前 ['blue', 'red', 'yellow', 'red', 'green']\n削除後 ['blue', 'red', 'red', 'green']\n"
    }
   ],
   "source": [
    "colors = [\"blue\", \"red\", \"yellow\", \"red\", \"green\"]\n",
    "print(\"削除前\", colors)\n",
    "target = \"yellow\"\n",
    "if target in colors :\n",
    "    colors.remove(target)\n",
    "print(\"削除後\", colors)"
   ]
  },
  {
   "cell_type": "code",
   "execution_count": 33,
   "metadata": {
    "tags": []
   },
   "outputs": [
    {
     "output_type": "stream",
     "name": "stdout",
     "text": "削除前 ['blue', 'red', 'yellow', 'red', 'green']\n削除後 ['blue', 'yellow', 'green']\n"
    }
   ],
   "source": [
    "colors = [\"blue\", \"red\", \"yellow\", \"red\", \"green\"]\n",
    "print(\"削除前\", colors)\n",
    "target = \"red\"\n",
    "while target in colors :\n",
    "    colors.remove(target)\n",
    "print(\"削除後\", colors)"
   ]
  },
  {
   "cell_type": "code",
   "execution_count": 34,
   "metadata": {},
   "outputs": [
    {
     "output_type": "execute_result",
     "data": {
      "text/plain": "['a', 'b', 'd']"
     },
     "metadata": {},
     "execution_count": 34
    }
   ],
   "source": [
    "data = [\"a\", \"b\", \"c\", \"d\"]\n",
    "del data[2]\n",
    "data"
   ]
  },
  {
   "cell_type": "code",
   "execution_count": 35,
   "metadata": {},
   "outputs": [
    {
     "output_type": "error",
     "ename": "NameError",
     "evalue": "name 'data' is not defined",
     "traceback": [
      "\u001b[0;31m---------------------------------------------------------------------------\u001b[0m",
      "\u001b[0;31mNameError\u001b[0m                                 Traceback (most recent call last)",
      "\u001b[0;32m<ipython-input-35-ca18d14acba1>\u001b[0m in \u001b[0;36m<module>\u001b[0;34m\u001b[0m\n\u001b[1;32m      1\u001b[0m \u001b[0mdata\u001b[0m \u001b[0;34m=\u001b[0m \u001b[0;34m[\u001b[0m\u001b[0;34m\"a\"\u001b[0m\u001b[0;34m,\u001b[0m \u001b[0;34m\"b\"\u001b[0m\u001b[0;34m,\u001b[0m \u001b[0;34m\"c\"\u001b[0m\u001b[0;34m,\u001b[0m \u001b[0;34m\"d\"\u001b[0m\u001b[0;34m]\u001b[0m\u001b[0;34m\u001b[0m\u001b[0;34m\u001b[0m\u001b[0m\n\u001b[1;32m      2\u001b[0m \u001b[0;32mdel\u001b[0m \u001b[0mdata\u001b[0m\u001b[0;34m\u001b[0m\u001b[0;34m\u001b[0m\u001b[0m\n\u001b[0;32m----> 3\u001b[0;31m \u001b[0mdata\u001b[0m\u001b[0;34m\u001b[0m\u001b[0;34m\u001b[0m\u001b[0m\n\u001b[0m",
      "\u001b[0;31mNameError\u001b[0m: name 'data' is not defined"
     ]
    }
   ],
   "source": [
    "data = [\"a\", \"b\", \"c\", \"d\"]\n",
    "del data\n",
    "data"
   ]
  },
  {
   "cell_type": "code",
   "execution_count": 38,
   "metadata": {},
   "outputs": [
    {
     "output_type": "execute_result",
     "data": {
      "text/plain": "['may', 'the', 'force', 'be', 'with', 'you!']"
     },
     "metadata": {},
     "execution_count": 38
    }
   ],
   "source": [
    "message = \"may the force be with you! \"\n",
    "words = message.split()\n",
    "words"
   ]
  },
  {
   "cell_type": "code",
   "execution_count": 39,
   "metadata": {},
   "outputs": [
    {
     "output_type": "execute_result",
     "data": {
      "text/plain": "['apple', ' orange', ' banana', ' mango']"
     },
     "metadata": {},
     "execution_count": 39
    }
   ],
   "source": [
    "fruits = \"apple, orange, banana, mango\"\n",
    "fruits_list = fruits.split(\",\")\n",
    "fruits_list"
   ]
  },
  {
   "cell_type": "code",
   "execution_count": 40,
   "metadata": {},
   "outputs": [
    {
     "output_type": "execute_result",
     "data": {
      "text/plain": "['red', 'blue', 'green', 'white', 'black']"
     },
     "metadata": {},
     "execution_count": 40
    }
   ],
   "source": [
    "colors = \"red,blue, green, white , black\"\n",
    "colors = colors.replace(\" \", \"\")\n",
    "color_list = colors.split(\",\")\n",
    "color_list"
   ]
  },
  {
   "cell_type": "code",
   "execution_count": 41,
   "metadata": {},
   "outputs": [
    {
     "output_type": "execute_result",
     "data": {
      "text/plain": "['佐藤', '栗田', '内村', '岡田']"
     },
     "metadata": {},
     "execution_count": 41
    }
   ],
   "source": [
    "members = \"佐藤、栗田、内村、岡田\"\n",
    "member_list = members.split(\"、\")\n",
    "member_list"
   ]
  },
  {
   "cell_type": "code",
   "execution_count": 42,
   "metadata": {},
   "outputs": [
    {
     "output_type": "execute_result",
     "data": {
      "text/plain": "['23', '45', '56', '87,90,123,231,356,321']"
     },
     "metadata": {},
     "execution_count": 42
    }
   ],
   "source": [
    "result = \"23,45,56,87,90,123,231,356,321\"\n",
    "result_list = result.split(\",\", 3)\n",
    "result_list"
   ]
  },
  {
   "cell_type": "code",
   "execution_count": 43,
   "metadata": {},
   "outputs": [
    {
     "output_type": "execute_result",
     "data": {
      "text/plain": "['23', '45', '56']"
     },
     "metadata": {},
     "execution_count": 43
    }
   ],
   "source": [
    "top3 = result.split(\",\", 3)[:3]\n",
    "top3"
   ]
  },
  {
   "cell_type": "code",
   "execution_count": 44,
   "metadata": {},
   "outputs": [
    {
     "output_type": "execute_result",
     "data": {
      "text/plain": "'Tom and Jerry and Spike'"
     },
     "metadata": {},
     "execution_count": 44
    }
   ],
   "source": [
    "members = [\"Tom\", \"Jerry\", \"Spike\"]\n",
    "name = \" and \".join(members)\n",
    "name"
   ]
  },
  {
   "cell_type": "code",
   "execution_count": null,
   "metadata": {},
   "outputs": [],
   "source": []
  }
 ],
 "metadata": {
  "language_info": {
   "codemirror_mode": {
    "name": "ipython",
    "version": 3
   },
   "file_extension": ".py",
   "mimetype": "text/x-python",
   "name": "python",
   "nbconvert_exporter": "python",
   "pygments_lexer": "ipython3",
   "version": "3.8.3-final"
  },
  "orig_nbformat": 2,
  "kernelspec": {
   "name": "python38364bitd54f81a146104498935be01bbf31dd85",
   "display_name": "Python 3.8.3 64-bit"
  }
 },
 "nbformat": 4,
 "nbformat_minor": 2
}