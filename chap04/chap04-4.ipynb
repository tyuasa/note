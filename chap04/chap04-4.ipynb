{
 "cells": [
  {
   "cell_type": "code",
   "execution_count": 4,
   "metadata": {},
   "outputs": [
    {
     "output_type": "execute_result",
     "data": {
      "text/plain": "'APPLE IPHONEとGOOGLE ANDROID'"
     },
     "metadata": {},
     "execution_count": 4
    }
   ],
   "source": [
    "s = \"Apple iPhoneとGoogle Android\"\n",
    "s.upper()"
   ]
  },
  {
   "cell_type": "code",
   "execution_count": 5,
   "metadata": {},
   "outputs": [
    {
     "output_type": "execute_result",
     "data": {
      "text/plain": "'apple iphoneとgoogle android'"
     },
     "metadata": {},
     "execution_count": 5
    }
   ],
   "source": [
    "s.lower()"
   ]
  },
  {
   "cell_type": "code",
   "execution_count": 6,
   "metadata": {},
   "outputs": [
    {
     "output_type": "execute_result",
     "data": {
      "text/plain": "'aPPLE IpHONEとgOOGLE aNDROID'"
     },
     "metadata": {},
     "execution_count": 6
    }
   ],
   "source": [
    "s.swapcase()"
   ]
  },
  {
   "cell_type": "code",
   "execution_count": 7,
   "metadata": {},
   "outputs": [
    {
     "output_type": "execute_result",
     "data": {
      "text/plain": "'May the force be with you!'"
     },
     "metadata": {},
     "execution_count": 7
    }
   ],
   "source": [
    "s = \"may the force be with you!\"\n",
    "s.capitalize()"
   ]
  },
  {
   "cell_type": "code",
   "execution_count": 8,
   "metadata": {},
   "outputs": [
    {
     "output_type": "execute_result",
     "data": {
      "text/plain": "'May The Force Be With You!'"
     },
     "metadata": {},
     "execution_count": 8
    }
   ],
   "source": [
    "s.title()"
   ]
  },
  {
   "cell_type": "code",
   "execution_count": 1,
   "metadata": {},
   "outputs": [
    {
     "output_type": "execute_result",
     "data": {
      "text/plain": "3"
     },
     "metadata": {},
     "execution_count": 1
    }
   ],
   "source": [
    "s = \"apple pie\"\n",
    "s.count(\"p\")"
   ]
  },
  {
   "cell_type": "code",
   "execution_count": 2,
   "metadata": {},
   "outputs": [
    {
     "output_type": "execute_result",
     "data": {
      "text/plain": "0"
     },
     "metadata": {},
     "execution_count": 2
    }
   ],
   "source": [
    "s.count(\"P\")"
   ]
  },
  {
   "cell_type": "code",
   "execution_count": 3,
   "metadata": {},
   "outputs": [
    {
     "output_type": "execute_result",
     "data": {
      "text/plain": "2"
     },
     "metadata": {},
     "execution_count": 3
    }
   ],
   "source": [
    "\"どっどどどどどうど\".count(\"どど\")"
   ]
  },
  {
   "cell_type": "code",
   "execution_count": 4,
   "metadata": {},
   "outputs": [
    {
     "output_type": "execute_result",
     "data": {
      "text/plain": "2"
     },
     "metadata": {},
     "execution_count": 4
    }
   ],
   "source": [
    "s = \"apple pie\"\n",
    "s.count(\"p\", 0, 4)"
   ]
  },
  {
   "cell_type": "code",
   "execution_count": 5,
   "metadata": {},
   "outputs": [
    {
     "output_type": "execute_result",
     "data": {
      "text/plain": "4"
     },
     "metadata": {},
     "execution_count": 5
    }
   ],
   "source": [
    "s = \"apple pie\"\n",
    "s.find(\"e\")"
   ]
  },
  {
   "cell_type": "code",
   "execution_count": 6,
   "metadata": {},
   "outputs": [
    {
     "output_type": "execute_result",
     "data": {
      "text/plain": "-1"
     },
     "metadata": {},
     "execution_count": 6
    }
   ],
   "source": [
    "s.find(\"x\")"
   ]
  },
  {
   "cell_type": "code",
   "execution_count": 7,
   "metadata": {},
   "outputs": [
    {
     "output_type": "execute_result",
     "data": {
      "text/plain": "8"
     },
     "metadata": {},
     "execution_count": 7
    }
   ],
   "source": [
    "s = \"apple pie\"\n",
    "s.rfind(\"e\")"
   ]
  },
  {
   "cell_type": "code",
   "execution_count": 8,
   "metadata": {},
   "outputs": [
    {
     "output_type": "execute_result",
     "data": {
      "text/plain": "'xmployxx'"
     },
     "metadata": {},
     "execution_count": 8
    }
   ],
   "source": [
    "s = \"employee\"\n",
    "s.replace(\"e\", \"x\")"
   ]
  },
  {
   "cell_type": "code",
   "execution_count": 10,
   "metadata": {},
   "outputs": [
    {
     "output_type": "execute_result",
     "data": {
      "text/plain": "'xmployxe'"
     },
     "metadata": {},
     "execution_count": 10
    }
   ],
   "source": [
    "s = \"employee\"\n",
    "s.replace(\"e\", \"x\", 2)"
   ]
  },
  {
   "cell_type": "code",
   "execution_count": 11,
   "metadata": {},
   "outputs": [
    {
     "output_type": "execute_result",
     "data": {
      "text/plain": "'サクラ舞う風'"
     },
     "metadata": {},
     "execution_count": 11
    }
   ],
   "source": [
    "sj = \"サクラ咲く\"\n",
    "sj.replace(\"咲く\", \"舞う風\")"
   ]
  },
  {
   "cell_type": "code",
   "execution_count": 12,
   "metadata": {},
   "outputs": [
    {
     "output_type": "execute_result",
     "data": {
      "text/plain": "'hello'"
     },
     "metadata": {},
     "execution_count": 12
    }
   ],
   "source": [
    "t = \"  hello  \\n\"\n",
    "t.strip()"
   ]
  },
  {
   "cell_type": "code",
   "execution_count": 13,
   "metadata": {},
   "outputs": [
    {
     "output_type": "execute_result",
     "data": {
      "text/plain": "'abc'"
     },
     "metadata": {},
     "execution_count": 13
    }
   ],
   "source": [
    "t = \"abc......\"\n",
    "t.rstrip(\".\")"
   ]
  },
  {
   "cell_type": "code",
   "execution_count": 14,
   "metadata": {},
   "outputs": [
    {
     "output_type": "execute_result",
     "data": {
      "text/plain": "'2, 3, 4'"
     },
     "metadata": {},
     "execution_count": 14
    }
   ],
   "source": [
    "t1 = \"2, 3, 4,\"\n",
    "t1.rstrip(\".,\\n\")"
   ]
  },
  {
   "cell_type": "code",
   "execution_count": 15,
   "metadata": {},
   "outputs": [
    {
     "output_type": "execute_result",
     "data": {
      "text/plain": "'Hello World'"
     },
     "metadata": {},
     "execution_count": 15
    }
   ],
   "source": [
    "t2 = \"Hello World.\\n\"\n",
    "t2.rstrip(\".,\\n\")"
   ]
  },
  {
   "cell_type": "code",
   "execution_count": 16,
   "metadata": {},
   "outputs": [
    {
     "output_type": "execute_result",
     "data": {
      "text/plain": "'do'"
     },
     "metadata": {},
     "execution_count": 16
    }
   ],
   "source": [
    "t = \"dog.peg.jp\"\n",
    "t.rstrip(\".jpeg\")"
   ]
  },
  {
   "cell_type": "code",
   "execution_count": 22,
   "metadata": {},
   "outputs": [
    {
     "output_type": "execute_result",
     "data": {
      "text/plain": "'チューリップは赤と青と黄色でした。'"
     },
     "metadata": {},
     "execution_count": 22
    }
   ],
   "source": [
    "s = \"チューリップは{}と{}と{}でした。\"\n",
    "s.format(\"赤\", \"青\", \"黄色\")"
   ]
  },
  {
   "cell_type": "code",
   "execution_count": 23,
   "metadata": {
    "tags": []
   },
   "outputs": [
    {
     "output_type": "stream",
     "name": "stdout",
     "text": "高橋選手、年齢23、得点102.5でした。\n"
    }
   ],
   "source": [
    "name = \"高橋\"\n",
    "age = 23\n",
    "point = 102.5\n",
    "s = \"{}選手、年齢{}、得点{}でした。\"\n",
    "text = s.format(name, age, point)\n",
    "print(text)"
   ]
  },
  {
   "cell_type": "code",
   "execution_count": 24,
   "metadata": {
    "tags": []
   },
   "outputs": [
    {
     "output_type": "stream",
     "name": "stdout",
     "text": "高橋選手、年齢23、得点102.5でした。\n"
    }
   ],
   "source": [
    "name = \"高橋\"\n",
    "age = 23\n",
    "point = 102.5\n",
    "text = f\"{name}選手、年齢{age}、得点{point}でした。\"\n",
    "print(text)"
   ]
  },
  {
   "cell_type": "code",
   "execution_count": 25,
   "metadata": {
    "tags": []
   },
   "outputs": [
    {
     "output_type": "stream",
     "name": "stdout",
     "text": "得点102.5、高橋、23歳\n"
    }
   ],
   "source": [
    "name = \"高橋\"\n",
    "age = 23\n",
    "point = 102.5\n",
    "s = \"得点{2}、{0}、{1}歳\"\n",
    "text = s.format(name, age, point)\n",
    "print(text)"
   ]
  },
  {
   "cell_type": "code",
   "execution_count": 26,
   "metadata": {
    "tags": []
   },
   "outputs": [
    {
     "output_type": "stream",
     "name": "stdout",
     "text": "高橋選手、年齢23、得点102.5でした。\n"
    }
   ],
   "source": [
    "s = \"{name}選手、年齢{age}、得点{point}でした。\"\n",
    "text = s.format(name = \"高橋\", age = 23, point = 102.5)\n",
    "print(text)"
   ]
  },
  {
   "cell_type": "code",
   "execution_count": 27,
   "metadata": {
    "tags": []
   },
   "outputs": [
    {
     "output_type": "stream",
     "name": "stdout",
     "text": "高橋選手、年齢23、得点102.5でした。\n"
    }
   ],
   "source": [
    "s = \"{name}選手、年齢{age}、得点{point}でした。\"\n",
    "text = s.format(name=\"高橋\", age=23, point=102.5)\n",
    "print(text)"
   ]
  },
  {
   "cell_type": "code",
   "execution_count": 29,
   "metadata": {
    "tags": []
   },
   "outputs": [
    {
     "output_type": "stream",
     "name": "stdout",
     "text": "東京123,456,000、京都53,900\n"
    }
   ],
   "source": [
    "tokyo=123456000\n",
    "kyoto=53900\n",
    "print(f\"東京{tokyo:,}、京都{kyoto:,}\")"
   ]
  },
  {
   "cell_type": "code",
   "execution_count": 30,
   "metadata": {},
   "outputs": [
    {
     "output_type": "execute_result",
     "data": {
      "text/plain": "'東京123,456,000、京都53,900'"
     },
     "metadata": {},
     "execution_count": 30
    }
   ],
   "source": [
    "tokyo=123456000\n",
    "kyoto=53900\n",
    "s=\"東京{:,}、京都{:,}\"\n",
    "s.format(tokyo, kyoto)"
   ]
  },
  {
   "cell_type": "code",
   "execution_count": 32,
   "metadata": {
    "tags": []
   },
   "outputs": [
    {
     "output_type": "stream",
     "name": "stdout",
     "text": "長さ25.3cm、厚み6mm\n"
    }
   ],
   "source": [
    "length=25.34\n",
    "thickness=5.62\n",
    "text = f\"長さ{length:.1f}cm、厚み{thickness:.0f}mm\"\n",
    "print(text)"
   ]
  },
  {
   "cell_type": "code",
   "execution_count": 34,
   "metadata": {},
   "outputs": [
    {
     "output_type": "execute_result",
     "data": {
      "text/plain": "'長さ25.3cm、厚み6mm'"
     },
     "metadata": {},
     "execution_count": 34
    }
   ],
   "source": [
    "length=25.34\n",
    "thickness=5.62\n",
    "s=\"長さ{:.1f}cm、厚み{:.0f}mm\"\n",
    "s.format(length,thickness)"
   ]
  },
  {
   "cell_type": "code",
   "execution_count": 35,
   "metadata": {
    "tags": []
   },
   "outputs": [
    {
     "output_type": "stream",
     "name": "stdout",
     "text": "2,345.03\n"
    }
   ],
   "source": [
    "num = 2345.032\n",
    "print(f\"{num:,.2f}\")"
   ]
  },
  {
   "cell_type": "code",
   "execution_count": 36,
   "metadata": {
    "tags": []
   },
   "outputs": [
    {
     "output_type": "stream",
     "name": "stdout",
     "text": "123.4\n"
    }
   ],
   "source": [
    "num1 = 123.4\n",
    "num2 = 56.9\n",
    "num3 = 3040.1\n",
    "print(f\"{num1:>10.1f}\")"
   ]
  },
  {
   "cell_type": "code",
   "execution_count": 37,
   "metadata": {
    "tags": []
   },
   "outputs": [
    {
     "output_type": "stream",
     "name": "stdout",
     "text": "56.9\n"
    }
   ],
   "source": [
    "print(f\"{num2:>10.1f}\")"
   ]
  },
  {
   "cell_type": "code",
   "execution_count": 38,
   "metadata": {
    "tags": []
   },
   "outputs": [
    {
     "output_type": "stream",
     "name": "stdout",
     "text": "3040.1\n"
    }
   ],
   "source": [
    "print(f\"{num3:>10.1f}\")"
   ]
  },
  {
   "cell_type": "code",
   "execution_count": null,
   "metadata": {},
   "outputs": [],
   "source": []
  }
 ],
 "metadata": {
  "language_info": {
   "codemirror_mode": {
    "name": "ipython",
    "version": 3
   },
   "file_extension": ".py",
   "mimetype": "text/x-python",
   "name": "python",
   "nbconvert_exporter": "python",
   "pygments_lexer": "ipython3",
   "version": "3.8.3-final"
  },
  "orig_nbformat": 2,
  "kernelspec": {
   "name": "python38264bitvenvnotevenv23ce147a73fa4435bf31d40948e90d7f",
   "display_name": "Python 3.8.2 64-bit ('venv_note': venv)"
  }
 },
 "nbformat": 4,
 "nbformat_minor": 2
}