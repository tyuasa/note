{
 "cells": [
  {
   "cell_type": "code",
   "execution_count": 1,
   "metadata": {},
   "outputs": [
    {
     "output_type": "execute_result",
     "data": {
      "text/plain": "2200"
     },
     "metadata": {},
     "execution_count": 1
    }
   ],
   "source": [
    "def price(adult, child) :\n",
    "    return (adult * 1200) + (child * 500)\n",
    "price(1,2)"
   ]
  },
  {
   "cell_type": "code",
   "execution_count": 2,
   "metadata": {},
   "outputs": [
    {
     "output_type": "execute_result",
     "data": {
      "text/plain": "2200"
     },
     "metadata": {},
     "execution_count": 2
    }
   ],
   "source": [
    "def price(adult, child):\n",
    "    return(adult*1200)+(child*500)\n",
    "price(adult=1, child=2)"
   ]
  },
  {
   "cell_type": "code",
   "execution_count": 3,
   "metadata": {},
   "outputs": [
    {
     "output_type": "stream",
     "name": "stdout",
     "text": "Sサイズ、2個、240円\nMサイズ、6個、900円\n"
    }
   ],
   "source": [
    "def calc(size, num = 6) :\n",
    "    unit_price = {\"S\": 120, \"M\": 150, \"L\": 180}\n",
    "    price = unit_price[size] * num\n",
    "    return (size, num, price)\n",
    "\n",
    "a = calc(\"S\", 2)\n",
    "print(f\"{a[0]}サイズ、{a[1]}個、{a[2]}円\")\n",
    "\n",
    "b = calc(\"M\")\n",
    "print (f\"{b[0]}サイズ、{b[1]}個、{b[2]}円\")"
   ]
  },
  {
   "cell_type": "code",
   "execution_count": 8,
   "metadata": {},
   "outputs": [
    {
     "output_type": "stream",
     "name": "stdout",
     "text": "Mサイズ、6個、900円\nLサイズ、6個、1080円\nMサイズ、1個、150円\n"
    }
   ],
   "source": [
    "def calc(size = \"M\", num = 6) :\n",
    "    unit_price = {\"S\": 120, \"M\": 150, \"L\": 180}\n",
    "    price = unit_price[size] * num\n",
    "    return (size, num, price)\n",
    "\n",
    "a = calc()\n",
    "print(f\"{a[0]}サイズ、{a[1]}個、{a[2]}円\")\n",
    "\n",
    "b = calc(\"L\")\n",
    "print(f\"{b[0]}サイズ、{b[1]}個、{b[2]}円\")\n",
    "\n",
    "c = calc(num = 1)\n",
    "print(f\"{c[0]}サイズ、{c[1]}個、{c[2]}円\")"
   ]
  },
  {
   "cell_type": "code",
   "execution_count": 11,
   "metadata": {},
   "outputs": [
    {
     "output_type": "stream",
     "name": "stdout",
     "text": "('リンゴ', 'みかん', 'いちご', 'バナナ')\n"
    }
   ],
   "source": [
    "def fruit (*args):\n",
    "    print(args)\n",
    "\n",
    "fruit(\"リンゴ\", \"みかん\", \"いちご\", \"バナナ\")"
   ]
  },
  {
   "cell_type": "code",
   "execution_count": 13,
   "metadata": {},
   "outputs": [
    {
     "output_type": "stream",
     "name": "stdout",
     "text": "東京→神戸→長崎→熊本→宮崎\n"
    }
   ],
   "source": [
    "def route(start, end, *args):\n",
    "    route_list = [start]\n",
    "    route_list += list(args)\n",
    "    route_list += [end]\n",
    "\n",
    "    route_str = \"→\".join(route_list)\n",
    "    print(route_str)\n",
    "\n",
    "start = \"東京\"\n",
    "end = \"宮崎\"\n",
    "route(start, end, \"神戸\", \"長崎\", \"熊本\")"
   ]
  },
  {
   "cell_type": "code",
   "execution_count": 15,
   "metadata": {},
   "outputs": [
    {
     "output_type": "stream",
     "name": "stdout",
     "text": "{'apple': 2, 'orange': 3, 'banana': 1}\n"
    }
   ],
   "source": [
    "def fruit(**kwargs):\n",
    "    print (kwargs)\n",
    "\n",
    "fruit(apple=2, orange=3, banana=1)"
   ]
  },
  {
   "cell_type": "code",
   "execution_count": 16,
   "metadata": {},
   "outputs": [
    {
     "output_type": "stream",
     "name": "stdout",
     "text": "{'name': '大山坂道', 'gender': '男性', 'age': 27, 'course': 'E'}\n"
    }
   ],
   "source": [
    "def entry(name, gender, **kwargs):\n",
    "    data = {\"name\": name, \"gender\":gender}\n",
    "    data.update(kwargs)\n",
    "    print(data)\n",
    "\n",
    "entry(name=\"大山坂道\", gender=\"男性\", age=27, course=\"E\")"
   ]
  },
  {
   "cell_type": "code",
   "execution_count": null,
   "metadata": {},
   "outputs": [],
   "source": []
  }
 ],
 "metadata": {
  "language_info": {
   "codemirror_mode": {
    "name": "ipython",
    "version": 3
   },
   "file_extension": ".py",
   "mimetype": "text/x-python",
   "name": "python",
   "nbconvert_exporter": "python",
   "pygments_lexer": "ipython3",
   "version": "3.8.2-final"
  },
  "orig_nbformat": 2,
  "kernelspec": {
   "name": "python38264bitvenvnotevenv23ce147a73fa4435bf31d40948e90d7f",
   "display_name": "Python 3.8.2 64-bit ('venv_note': venv)"
  }
 },
 "nbformat": 4,
 "nbformat_minor": 2
}