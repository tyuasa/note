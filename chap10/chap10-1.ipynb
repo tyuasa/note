{
 "cells": [
  {
   "cell_type": "code",
   "execution_count": 1,
   "metadata": {},
   "outputs": [
    {
     "output_type": "execute_result",
     "data": {
      "text/plain": "'Hello !!'"
     },
     "metadata": {},
     "execution_count": 1
    }
   ],
   "source": [
    "def hello():\n",
    "    return \"Hello !!\"\n",
    "\n",
    "msg = hello()\n",
    "msg"
   ]
  },
  {
   "cell_type": "code",
   "execution_count": 2,
   "metadata": {},
   "outputs": [
    {
     "output_type": "stream",
     "name": "stdout",
     "text": "3\n3\n1\n6\n2\n"
    }
   ],
   "source": [
    "from random import randint\n",
    "def dice():\n",
    "    num = randint(1,6)\n",
    "    return num\n",
    "\n",
    "for i in range(5):\n",
    "    result = dice()\n",
    "    print(result)"
   ]
  },
  {
   "cell_type": "code",
   "execution_count": 3,
   "metadata": {},
   "outputs": [
    {
     "output_type": "stream",
     "name": "stdout",
     "text": "6と3で合計9\n1と5で合計6\n1と1で合計2\n2と5で合計7\n2と1で合計3\n"
    }
   ],
   "source": [
    "from random import randint\n",
    "def dice():\n",
    "    num = randint(1,6)\n",
    "    return num\n",
    "\n",
    "for i in range (5):\n",
    "    dice1 = dice()\n",
    "    dice2 = dice()\n",
    "    sum = dice1 + dice2\n",
    "    print(f\"{dice1}と{dice2}で合計{sum}\") "
   ]
  },
  {
   "cell_type": "code",
   "execution_count": 4,
   "metadata": {},
   "outputs": [
    {
     "output_type": "stream",
     "name": "stdout",
     "text": "32186.88\n"
    }
   ],
   "source": [
    "def mile2meter(mile) :\n",
    "    meter = mile * 1609.344\n",
    "    return meter\n",
    "\n",
    "distance = mile2meter(20)\n",
    "print(distance)"
   ]
  },
  {
   "cell_type": "code",
   "execution_count": 9,
   "metadata": {},
   "outputs": [
    {
     "output_type": "stream",
     "name": "stdout",
     "text": "底辺15、高さ13の三角形の面積は97.5です。\n"
    }
   ],
   "source": [
    "def triangle (base, height) : \n",
    "    area = base * height / 2\n",
    "    return area\n",
    "\n",
    "b = 15\n",
    "h = 13\n",
    "v = triangle(b, h)\n",
    "print(f\"底辺{b}、高さ{h}の三角形の面積は{v}です。\")"
   ]
  },
  {
   "cell_type": "code",
   "execution_count": 15,
   "metadata": {},
   "outputs": [
    {
     "output_type": "stream",
     "name": "stdout",
     "text": "5と1で合計6、偶数\n6と6で合計12、偶数\n3と2で合計5、奇数\n1と6で合計7、奇数\n6と3で合計9、奇数\nゲーム終了\n"
    }
   ],
   "source": [
    "from random import randint\n",
    "def dice():\n",
    "    num = randint(1,6)\n",
    "    return num\n",
    "\n",
    "def dicegame():\n",
    "    dice1 = dice()\n",
    "    dice2 = dice()\n",
    "    sum = dice1 + dice2\n",
    "    if sum%2 == 0 :\n",
    "        print(f\"{dice1}と{dice2}で合計{sum}、偶数\")\n",
    "    else :\n",
    "        print(f\"{dice1}と{dice2}で合計{sum}、奇数\")\n",
    "\n",
    "for i in range(5) :\n",
    "    dicegame()\n",
    "print(\"ゲーム終了\")"
   ]
  },
  {
   "cell_type": "code",
   "execution_count": 20,
   "metadata": {},
   "outputs": [
    {
     "output_type": "stream",
     "name": "stdout",
     "text": "360\n"
    }
   ],
   "source": [
    "def calc(num) : \n",
    "    unit_price = 180\n",
    "    if not num.isdigit() :\n",
    "        return None\n",
    "    price = int(num) * unit_price\n",
    "    return price\n",
    "\n",
    "while True :\n",
    "    num = input(\"個数を入れてください（qで終了）\")\n",
    "    if num == \"\" :\n",
    "        continue\n",
    "    elif num == \"q\" :\n",
    "        break\n",
    "\n",
    "    result = calc(num)\n",
    "    print(result)"
   ]
  },
  {
   "cell_type": "code",
   "execution_count": 21,
   "metadata": {},
   "outputs": [
    {
     "output_type": "stream",
     "name": "stdout",
     "text": "540.0\n270.0\n-540.0\nNone\n"
    }
   ],
   "source": [
    "def calc(num) :\n",
    "    unit_price = 180\n",
    "    try :\n",
    "        num = float(num)\n",
    "        return num * unit_price\n",
    "    except :\n",
    "        return None\n",
    "\n",
    "while True :\n",
    "    num = input(\"個数を入れてください。（qで終了）\")\n",
    "    if num == \"\" :\n",
    "        continue\n",
    "    elif num == \"q\" :\n",
    "        break\n",
    "    \n",
    "    result = calc(num)\n",
    "    print(result)"
   ]
  },
  {
   "cell_type": "code",
   "execution_count": 22,
   "metadata": {},
   "outputs": [
    {
     "output_type": "stream",
     "name": "stdout",
     "text": "6\n"
    }
   ],
   "source": [
    "def calc():\n",
    "    v = 2\n",
    "    ans = 3 * v\n",
    "    print(ans)\n",
    "\n",
    "calc()"
   ]
  },
  {
   "cell_type": "code",
   "execution_count": 25,
   "metadata": {},
   "outputs": [
    {
     "output_type": "stream",
     "name": "stdout",
     "text": "6\n\n"
    }
   ],
   "source": [
    "def calc():\n",
    "    v = 2\n",
    "    ans = 3 * v\n",
    "    print(ans)\n",
    "\n",
    "calc()\n",
    "print(v)"
   ]
  },
  {
   "cell_type": "code",
   "execution_count": 26,
   "metadata": {},
   "outputs": [
    {
     "output_type": "stream",
     "name": "stdout",
     "text": "6\n2\n"
    }
   ],
   "source": [
    "v = 2\n",
    "def calc() :\n",
    "    ans = 3 * v\n",
    "    print(ans)\n",
    "\n",
    "calc()\n",
    "print(v)"
   ]
  },
  {
   "cell_type": "code",
   "execution_count": 29,
   "metadata": {},
   "outputs": [
    {
     "output_type": "error",
     "ename": "UnboundLocalError",
     "evalue": "local variable 'v' referenced before assignment",
     "traceback": [
      "\u001b[0;31m---------------------------------------------------------------------------\u001b[0m",
      "\u001b[0;31mUnboundLocalError\u001b[0m                         Traceback (most recent call last)",
      "\u001b[0;32m<ipython-input-29-e3034654a28c>\u001b[0m in \u001b[0;36m<module>\u001b[0;34m\u001b[0m\n\u001b[1;32m      5\u001b[0m     \u001b[0mprint\u001b[0m\u001b[0;34m(\u001b[0m\u001b[0mans\u001b[0m\u001b[0;34m)\u001b[0m\u001b[0;34m\u001b[0m\u001b[0;34m\u001b[0m\u001b[0m\n\u001b[1;32m      6\u001b[0m \u001b[0;34m\u001b[0m\u001b[0m\n\u001b[0;32m----> 7\u001b[0;31m \u001b[0mcalc\u001b[0m\u001b[0;34m(\u001b[0m\u001b[0;34m)\u001b[0m\u001b[0;34m\u001b[0m\u001b[0;34m\u001b[0m\u001b[0m\n\u001b[0m",
      "\u001b[0;32m<ipython-input-29-e3034654a28c>\u001b[0m in \u001b[0;36mcalc\u001b[0;34m()\u001b[0m\n\u001b[1;32m      1\u001b[0m \u001b[0mv\u001b[0m \u001b[0;34m=\u001b[0m \u001b[0;36m2\u001b[0m\u001b[0;34m\u001b[0m\u001b[0;34m\u001b[0m\u001b[0m\n\u001b[1;32m      2\u001b[0m \u001b[0;32mdef\u001b[0m \u001b[0mcalc\u001b[0m\u001b[0;34m(\u001b[0m\u001b[0;34m)\u001b[0m \u001b[0;34m:\u001b[0m\u001b[0;34m\u001b[0m\u001b[0;34m\u001b[0m\u001b[0m\n\u001b[0;32m----> 3\u001b[0;31m     \u001b[0mv\u001b[0m \u001b[0;34m=\u001b[0m \u001b[0mv\u001b[0m \u001b[0;34m*\u001b[0m \u001b[0;36m10\u001b[0m\u001b[0;34m\u001b[0m\u001b[0;34m\u001b[0m\u001b[0m\n\u001b[0m\u001b[1;32m      4\u001b[0m     \u001b[0mans\u001b[0m \u001b[0;34m=\u001b[0m \u001b[0;36m3\u001b[0m \u001b[0;34m*\u001b[0m \u001b[0mv\u001b[0m\u001b[0;34m\u001b[0m\u001b[0;34m\u001b[0m\u001b[0m\n\u001b[1;32m      5\u001b[0m     \u001b[0mprint\u001b[0m\u001b[0;34m(\u001b[0m\u001b[0mans\u001b[0m\u001b[0;34m)\u001b[0m\u001b[0;34m\u001b[0m\u001b[0;34m\u001b[0m\u001b[0m\n",
      "\u001b[0;31mUnboundLocalError\u001b[0m: local variable 'v' referenced before assignment"
     ]
    }
   ],
   "source": [
    "v = 2\n",
    "def calc() :\n",
    "    v = v * 10\n",
    "    ans = 3 * v\n",
    "    print(ans)\n",
    "\n",
    "calc()"
   ]
  },
  {
   "cell_type": "code",
   "execution_count": 31,
   "metadata": {},
   "outputs": [
    {
     "output_type": "stream",
     "name": "stdout",
     "text": "60\n2\n"
    }
   ],
   "source": [
    "v = 2\n",
    "def calc() :\n",
    "    v_local = v * 10\n",
    "    ans = 3 * v_local\n",
    "    print (ans)\n",
    "\n",
    "calc()\n",
    "print(v)"
   ]
  },
  {
   "cell_type": "code",
   "execution_count": null,
   "metadata": {},
   "outputs": [],
   "source": []
  },
  {
   "cell_type": "code",
   "execution_count": null,
   "metadata": {},
   "outputs": [],
   "source": []
  }
 ],
 "metadata": {
  "language_info": {
   "codemirror_mode": {
    "name": "ipython",
    "version": 3
   },
   "file_extension": ".py",
   "mimetype": "text/x-python",
   "name": "python",
   "nbconvert_exporter": "python",
   "pygments_lexer": "ipython3",
   "version": "3.8.2-final"
  },
  "orig_nbformat": 2,
  "kernelspec": {
   "name": "python38264bitvenvnotevenv23ce147a73fa4435bf31d40948e90d7f",
   "display_name": "Python 3.8.2 64-bit ('venv_note': venv)"
  }
 },
 "nbformat": 4,
 "nbformat_minor": 2
}